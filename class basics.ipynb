{
 "cells": [
  {
   "cell_type": "markdown",
   "metadata": {},
   "source": [
    "####  OOP using Python \n",
    "* To initialize class attributes we use __init__ function\n",
    "* __self__ in init declaration is just a convention in python.\n",
    "* classes by definition are instance of __type__\n"
   ]
  },
  {
   "cell_type": "code",
   "execution_count": 14,
   "metadata": {},
   "outputs": [
    {
     "name": "stdout",
     "output_type": "stream",
     "text": [
      "driving \n"
     ]
    }
   ],
   "source": [
    "class car:\n",
    "    color = \"red\"\n",
    "    def __init__(self,name):\n",
    "        self.name = name\n",
    "    def drive():\n",
    "        print(\"driving \")\n",
    "        \n",
    "c = car(\"honda\")\n",
    "car.drive()"
   ]
  },
  {
   "cell_type": "code",
   "execution_count": 9,
   "metadata": {},
   "outputs": [
    {
     "name": "stdout",
     "output_type": "stream",
     "text": [
      "driving  honda\n",
      "driving  honda\n"
     ]
    }
   ],
   "source": [
    "class car:\n",
    "    color = \"red\"\n",
    "    def __init__(ty,name):\n",
    "        ty.name = name\n",
    "    def drive(ty):\n",
    "        print(\"driving \",ty.name)\n",
    "        \n",
    "c = car(\"honda\")\n",
    "c.drive()\n",
    "car.drive(c)"
   ]
  },
  {
   "cell_type": "code",
   "execution_count": 1,
   "metadata": {},
   "outputs": [
    {
     "data": {
      "text/plain": [
       "__main__.car"
      ]
     },
     "execution_count": 1,
     "metadata": {},
     "output_type": "execute_result"
    }
   ],
   "source": [
    "class car: \n",
    "    color = \"red\"\n",
    "car    "
   ]
  },
  {
   "cell_type": "code",
   "execution_count": 4,
   "metadata": {},
   "outputs": [
    {
     "data": {
      "text/plain": [
       "__main__.car"
      ]
     },
     "execution_count": 4,
     "metadata": {},
     "output_type": "execute_result"
    }
   ],
   "source": [
    "car = type(\"car\",(),{\"color\":\"red\"})  #  \"car\" is name of class,\"()\" the class it inheret from,third param is attribute\n",
    "car"
   ]
  },
  {
   "cell_type": "code",
   "execution_count": 12,
   "metadata": {},
   "outputs": [
    {
     "ename": "TypeError",
     "evalue": "drive() takes 0 positional arguments but 1 was given",
     "output_type": "error",
     "traceback": [
      "\u001b[1;31m---------------------------------------------------------------------------\u001b[0m",
      "\u001b[1;31mTypeError\u001b[0m                                 Traceback (most recent call last)",
      "\u001b[1;32m<ipython-input-12-78770bf3f81f>\u001b[0m in \u001b[0;36m<module>\u001b[1;34m()\u001b[0m\n\u001b[0;32m      7\u001b[0m \u001b[1;33m\u001b[0m\u001b[0m\n\u001b[0;32m      8\u001b[0m \u001b[0mc\u001b[0m \u001b[1;33m=\u001b[0m \u001b[0mcar\u001b[0m\u001b[1;33m(\u001b[0m\u001b[1;34m\"honda\"\u001b[0m\u001b[1;33m)\u001b[0m\u001b[1;33m\u001b[0m\u001b[0m\n\u001b[1;32m----> 9\u001b[1;33m \u001b[0mc\u001b[0m\u001b[1;33m.\u001b[0m\u001b[0mdrive\u001b[0m\u001b[1;33m(\u001b[0m\u001b[1;33m)\u001b[0m\u001b[1;33m\u001b[0m\u001b[0m\n\u001b[0m",
      "\u001b[1;31mTypeError\u001b[0m: drive() takes 0 positional arguments but 1 was given"
     ]
    }
   ],
   "source": [
    "class car:\n",
    "    color = \"red\"\n",
    "    def __init__(self,name):\n",
    "        self.name = name\n",
    "    def drive():\n",
    "        print(\"driving \",self.name)\n",
    "        \n",
    "c = car(\"honda\")\n",
    "c.drive()\n",
    "car.drive(c)"
   ]
  },
  {
   "cell_type": "code",
   "execution_count": null,
   "metadata": {},
   "outputs": [],
   "source": []
  }
 ],
 "metadata": {
  "kernelspec": {
   "display_name": "Python 3",
   "language": "python",
   "name": "python3"
  },
  "language_info": {
   "codemirror_mode": {
    "name": "ipython",
    "version": 3
   },
   "file_extension": ".py",
   "mimetype": "text/x-python",
   "name": "python",
   "nbconvert_exporter": "python",
   "pygments_lexer": "ipython3",
   "version": "3.7.0"
  }
 },
 "nbformat": 4,
 "nbformat_minor": 2
}
