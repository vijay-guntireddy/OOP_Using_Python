{
 "cells": [
  {
   "cell_type": "markdown",
   "metadata": {},
   "source": [
    "####  OOP using Python \n",
    "* To initialize class attributes we use __init__ function\n",
    "* __self__ in init declaration is just a convention in python.\n",
    "* classes by definition are instance of __type__\n"
   ]
  },
  {
   "cell_type": "code",
   "execution_count": 14,
   "metadata": {},
   "outputs": [
    {
     "name": "stdout",
     "output_type": "stream",
     "text": [
      "driving \n"
     ]
    }
   ],
   "source": [
    "class car:\n",
    "    color = \"red\"\n",
    "    def __init__(self,name):\n",
    "        self.name = name\n",
    "    def drive():\n",
    "        print(\"driving \")\n",
    "        \n",
    "c = car(\"honda\")\n",
    "car.drive()"
   ]
  },
  {
   "cell_type": "code",
   "execution_count": 9,
   "metadata": {},
   "outputs": [
    {
     "name": "stdout",
     "output_type": "stream",
     "text": [
      "driving  honda\n",
      "driving  honda\n"
     ]
    }
   ],
   "source": [
    "class car:\n",
    "    color = \"red\"\n",
    "    def __init__(ty,name):\n",
    "        ty.name = name\n",
    "    def drive(ty):\n",
    "        print(\"driving \",ty.name)\n",
    "        \n",
    "c = car(\"honda\")\n",
    "c.drive()\n",
    "car.drive(c)"
   ]
  },
  {
   "cell_type": "code",
   "execution_count": 1,
   "metadata": {},
   "outputs": [
    {
     "data": {
      "text/plain": [
       "__main__.car"
      ]
     },
     "execution_count": 1,
     "metadata": {},
     "output_type": "execute_result"
    }
   ],
   "source": [
    "class car: \n",
    "    color = \"red\"\n",
    "car    "
   ]
  },
  {
   "cell_type": "code",
   "execution_count": 4,
   "metadata": {},
   "outputs": [
    {
     "data": {
      "text/plain": [
       "__main__.car"
      ]
     },
     "execution_count": 4,
     "metadata": {},
     "output_type": "execute_result"
    }
   ],
   "source": [
    "car = type(\"car\",(),{\"color\":\"red\"})  #  \"car\" is name of class,\"()\" the class it inheret from,third param is attribute\n",
    "car"
   ]
  },
  {
   "cell_type": "code",
   "execution_count": null,
   "metadata": {
    "collapsed": true
   },
   "outputs": [],
   "source": [
    "class car:\n",
    "    color = \"red\"\n",
    "    def __init__(self,name):\n",
    "        self.name = name\n",
    "    def drive():\n",
    "        print(\"driving \",self.name)\n",
    "        \n",
    "c = car(\"honda\")\n",
    "c.drive()\n",
    "car.drive(c)"
   ]
  },
  {
   "cell_type": "markdown",
   "metadata": {},
   "source": [
    "####  __enter__  and  __exit__\n",
    "* when the “with” statement is executed, Python evaluates the expression, calls the __enter__ method \n",
    "* Assigns whatever __enter__ returns to the variable given by as. \n",
    "* Python will then execute the code body, and no matter what happens in that code, call the object’s __exit__ method."
   ]
  },
  {
   "cell_type": "markdown",
   "metadata": {},
   "source": [
    "####  __enter__  and  __exit__\n",
    "* when the “with” statement is executed, Python evaluates the expression, calls the __enter__ method \n",
    "* Assigns whatever __enter__ returns to the variable given by as. \n",
    "* Python will then execute the code body, and no matter what happens in that code, call the object’s __exit__ method."
   ]
  },
  {
   "cell_type": "markdown",
   "metadata": {},
   "source": []
  }
 ],
 "metadata": {
  "kernelspec": {
   "display_name": "Python 3",
   "language": "python",
   "name": "python3"
  },
  "language_info": {
   "codemirror_mode": {
    "name": "ipython",
    "version": 3
   },
   "file_extension": ".py",
   "mimetype": "text/x-python",
   "name": "python",
   "nbconvert_exporter": "python",
   "pygments_lexer": "ipython3",
   "version": "3.7.0"
  }
 },
 "nbformat": 4,
 "nbformat_minor": 2
}
