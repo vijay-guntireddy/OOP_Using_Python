{
 "cells": [
  {
   "cell_type": "markdown",
   "metadata": {},
   "source": [
    "####  OOP using Python \n",
    "* To initialize class attributes we use __init__ function\n",
    "* __self__ in init declaration is just a convention in python.\n",
    "* classes by definition are instance of __type__\n"
   ]
  },
  {
   "cell_type": "code",
   "execution_count": 14,
   "metadata": {},
   "outputs": [
    {
     "name": "stdout",
     "output_type": "stream",
     "text": [
      "driving \n"
     ]
    }
   ],
   "source": [
    "class car:\n",
    "    color = \"red\"\n",
    "    def __init__(self,name):\n",
    "        self.name = name\n",
    "    def drive():\n",
    "        print(\"driving \")\n",
    "        \n",
    "c = car(\"honda\")\n",
    "car.drive()"
   ]
  },
  {
   "cell_type": "code",
   "execution_count": 9,
   "metadata": {},
   "outputs": [
    {
     "name": "stdout",
     "output_type": "stream",
     "text": [
      "driving  honda\n",
      "driving  honda\n"
     ]
    }
   ],
   "source": [
    "class car:\n",
    "    color = \"red\"\n",
    "    def __init__(ty,name):\n",
    "        ty.name = name\n",
    "    def drive(ty):\n",
    "        print(\"driving \",ty.name)\n",
    "        \n",
    "c = car(\"honda\")\n",
    "c.drive()\n",
    "car.drive(c)"
   ]
  },
  {
   "cell_type": "code",
   "execution_count": 1,
   "metadata": {},
   "outputs": [
    {
     "data": {
      "text/plain": [
       "__main__.car"
      ]
     },
     "execution_count": 1,
     "metadata": {},
     "output_type": "execute_result"
    }
   ],
   "source": [
    "class car: \n",
    "    color = \"red\"\n",
    "car    "
   ]
  },
  {
   "cell_type": "code",
   "execution_count": 4,
   "metadata": {},
   "outputs": [
    {
     "data": {
      "text/plain": [
       "__main__.car"
      ]
     },
     "execution_count": 4,
     "metadata": {},
     "output_type": "execute_result"
    }
   ],
   "source": [
    "car = type(\"car\",(),{\"color\":\"red\"})  #  \"car\" is name of class,\"()\" the class it inheret from,third param is attribute\n",
    "car"
   ]
  },
  {
   "cell_type": "code",
   "execution_count": null,
   "metadata": {
    "collapsed": true
   },
   "outputs": [],
   "source": [
    "class car:\n",
    "    color = \"red\"\n",
    "    def __init__(self,name):\n",
    "        self.name = name\n",
    "    def drive():\n",
    "        print(\"driving \",self.name)\n",
    "        \n",
    "c = car(\"honda\")\n",
    "c.drive()\n",
    "car.drive(c)"
   ]
  },
  {
   "cell_type": "markdown",
   "metadata": {},
   "source": [
    "####  __enter__  and  __exit__\n",
    "* when the “with” statement is executed, Python evaluates the expression, calls the __enter__ method \n",
    "* Assigns whatever \"__enter__\" returns to the variable given by __as__ keyword. \n",
    "* Python will then execute the code body, and no matter what happens in that code, call the object’s __exit__ method at the end.\n",
    "* refer __enter.py__ example file in root folder\n",
    "* \"init\",\"del\",\"enter\",\"exit\" are life cycle methods in python class"
   ]
  },
  {
   "cell_type": "markdown",
   "metadata": {},
   "source": [
    "#### Polymorphism"
   ]
  },
  {
   "cell_type": "code",
   "execution_count": 5,
   "metadata": {},
   "outputs": [
    {
     "ename": "TypeError",
     "evalue": "greet() takes 0 positional arguments but 1 was given",
     "output_type": "error",
     "traceback": [
      "\u001b[1;31m---------------------------------------------------------------------------\u001b[0m",
      "\u001b[1;31mTypeError\u001b[0m                                 Traceback (most recent call last)",
      "\u001b[1;32m<ipython-input-5-5fb8b18f8ac5>\u001b[0m in \u001b[0;36m<module>\u001b[1;34m()\u001b[0m\n\u001b[0;32m      5\u001b[0m     \u001b[0mprint\u001b[0m\u001b[1;33m(\u001b[0m\u001b[1;34m\"hello\"\u001b[0m\u001b[1;33m)\u001b[0m\u001b[1;33m\u001b[0m\u001b[0m\n\u001b[0;32m      6\u001b[0m \u001b[1;33m\u001b[0m\u001b[0m\n\u001b[1;32m----> 7\u001b[1;33m \u001b[0mgreet\u001b[0m\u001b[1;33m(\u001b[0m\u001b[1;34m\"varun\"\u001b[0m\u001b[1;33m)\u001b[0m\u001b[1;33m\u001b[0m\u001b[0m\n\u001b[0m",
      "\u001b[1;31mTypeError\u001b[0m: greet() takes 0 positional arguments but 1 was given"
     ]
    }
   ],
   "source": [
    "def greet(name):\n",
    "  print(\"hello\",name)\n",
    "\n",
    "def greet():\n",
    "    print(\"hello\")\n",
    "\n",
    "greet(\"varun\")"
   ]
  },
  {
   "cell_type": "markdown",
   "metadata": {},
   "source": [
    "#### Note:\n",
    "* Function object created and it points to greet\n",
    "* last definition which is assigned will be reflected "
   ]
  },
  {
   "cell_type": "markdown",
   "metadata": {},
   "source": [
    "__Polymorphism__ : Function perform the action depend on the type of variables and number of inputs"
   ]
  },
  {
   "cell_type": "code",
   "execution_count": 7,
   "metadata": {},
   "outputs": [
    {
     "name": "stdout",
     "output_type": "stream",
     "text": [
      "hello:  varun\n"
     ]
    }
   ],
   "source": [
    "def greet(name=\"varun\"): #default argument\n",
    "    print(\"hello: \",name)\n",
    "\n",
    "greet()"
   ]
  },
  {
   "cell_type": "code",
   "execution_count": 9,
   "metadata": {},
   "outputs": [
    {
     "ename": "SyntaxError",
     "evalue": "non-default argument follows default argument (<ipython-input-9-1316d95590ce>, line 1)",
     "output_type": "error",
     "traceback": [
      "\u001b[1;36m  File \u001b[1;32m\"<ipython-input-9-1316d95590ce>\"\u001b[1;36m, line \u001b[1;32m1\u001b[0m\n\u001b[1;33m    def greet(name=\"varun\",city): #default argument always at the end\u001b[0m\n\u001b[1;37m             ^\u001b[0m\n\u001b[1;31mSyntaxError\u001b[0m\u001b[1;31m:\u001b[0m non-default argument follows default argument\n"
     ]
    }
   ],
   "source": [
    "def greet(name=\"varun\",city): #default argument always at the end\n",
    "    print(\"hello: \",name)\n",
    "\n",
    "greet()"
   ]
  },
  {
   "cell_type": "code",
   "execution_count": 11,
   "metadata": {},
   "outputs": [
    {
     "name": "stdout",
     "output_type": "stream",
     "text": [
      "('john', 'paul', 'peter')\n"
     ]
    }
   ],
   "source": [
    "def greet(*values): #varaible no:of arguments\n",
    "    print(values)\n",
    "\n",
    "greet(\"john\",\"paul\",\"peter\")\n"
   ]
  },
  {
   "cell_type": "code",
   "execution_count": 13,
   "metadata": {},
   "outputs": [
    {
     "name": "stdout",
     "output_type": "stream",
     "text": [
      "name : john\n",
      "city : pune\n",
      "visited : ('hyderabad', 'bangalore')\n"
     ]
    }
   ],
   "source": [
    "def greet(name,*visited,city=\"pune\"): # this program will give compilation issue in python 2.X \n",
    "    print(\"name :\",name)\n",
    "    print(\"city :\",city)\n",
    "    print(\"visited :\",visited)\n",
    "\n",
    "#greet(\"john\",\"hyderabad\",\"bangalore\",city=\"nagpur\") # if you want to pass the value to city, you have mention with \"city=\"\n",
    "greet(\"john\",\"hyderabad\",\"bangalore\")"
   ]
  },
  {
   "cell_type": "code",
   "execution_count": 19,
   "metadata": {},
   "outputs": [
    {
     "name": "stdout",
     "output_type": "stream",
     "text": [
      "1 2 3\n"
     ]
    }
   ],
   "source": [
    "#python will interpret all input variables in the form of tuple\n",
    "def add(x,y,z):\n",
    "    print(x,y,z)\n",
    "\n",
    "values= (1,2,3)\n",
    "add(*values)\n",
    "#values = (2,3)\n",
    "#add(1,*values)"
   ]
  },
  {
   "cell_type": "code",
   "execution_count": 10,
   "metadata": {},
   "outputs": [
    {
     "name": "stdout",
     "output_type": "stream",
     "text": [
      "data.txt\n",
      "hello\n"
     ]
    }
   ],
   "source": [
    "class datastore:\n",
    "       \n",
    "    def __init__(self):\n",
    "        self.filename = \"data.txt\"\n",
    "        self.__data = \"hello\"\n",
    "        \n",
    "d = datastore()\n",
    "print(d.filename)\n",
    "#print(d.__data)\n",
    "print(d._datastore__data)\n"
   ]
  },
  {
   "cell_type": "code",
   "execution_count": 8,
   "metadata": {},
   "outputs": [
    {
     "name": "stdout",
     "output_type": "stream",
     "text": [
      "hello\n",
      "1\n",
      "1\n"
     ]
    }
   ],
   "source": [
    "class filestore:\n",
    "    \n",
    "    def __init__(self,filename):\n",
    "        self.filename = filename\n",
    "\n",
    "    def __enter__(self):\n",
    "        self.file=open(self.filename,\"r\")\n",
    "        self.__data = self.file.readlines()\n",
    "        return self\n",
    "\n",
    "    def __exit__(self,et,ev,tb):\n",
    "        self.file.close()\n",
    "        \n",
    "    \n",
    "    def __getitem__(self,i):\n",
    "        if i > len(self.__data): return None\n",
    "        return self.__data[i]\n",
    "    \n",
    "  \n",
    "    \n",
    "\n",
    "\n",
    "\n",
    "with filestore(\"qcdata.log\") as flog:\n",
    "    print(flog[0])\n",
    "    \n",
    "lst = [1,2,3]\n",
    "print(lst[0])\n",
    "print(lst.__getitem__(0))\n",
    "\n",
    "\n",
    "\n",
    "\n",
    "\n",
    "#print(flog.file)\n",
    "\n",
    "#    itrobj = iter(flog)\n",
    "#    print(next(itrobj))\n"
   ]
  },
  {
   "cell_type": "code",
   "execution_count": 7,
   "metadata": {},
   "outputs": [
    {
     "ename": "StopIteration",
     "evalue": "",
     "output_type": "error",
     "traceback": [
      "\u001b[1;31m---------------------------------------------------------------------------\u001b[0m",
      "\u001b[1;31mStopIteration\u001b[0m                             Traceback (most recent call last)",
      "\u001b[1;32m<ipython-input-7-b4e7925260e2>\u001b[0m in \u001b[0;36m<module>\u001b[1;34m()\u001b[0m\n\u001b[0;32m      6\u001b[0m \u001b[1;31m#itrobj = iter(datastr)\u001b[0m\u001b[1;33m\u001b[0m\u001b[1;33m\u001b[0m\u001b[0m\n\u001b[0;32m      7\u001b[0m \u001b[0mitrobj\u001b[0m \u001b[1;33m=\u001b[0m \u001b[0miter\u001b[0m\u001b[1;33m(\u001b[0m\u001b[0mlst1\u001b[0m\u001b[1;33m)\u001b[0m\u001b[1;33m\u001b[0m\u001b[0m\n\u001b[1;32m----> 8\u001b[1;33m \u001b[0mprint\u001b[0m\u001b[1;33m(\u001b[0m\u001b[0mnext\u001b[0m\u001b[1;33m(\u001b[0m\u001b[0mitrobj\u001b[0m\u001b[1;33m)\u001b[0m\u001b[1;33m)\u001b[0m\u001b[1;33m\u001b[0m\u001b[0m\n\u001b[0m\u001b[0;32m      9\u001b[0m \u001b[1;31m#print(next(itrobj))\u001b[0m\u001b[1;33m\u001b[0m\u001b[1;33m\u001b[0m\u001b[0m\n",
      "\u001b[1;31mStopIteration\u001b[0m: "
     ]
    }
   ],
   "source": [
    "lst = [1,2,3,4,5]\n",
    "lst1 = []\n",
    "datastr = \"hello chitti\"\n",
    "\n",
    "#itrobj = iter(lst)\n",
    "#itrobj = iter(datastr)\n",
    "itrobj = iter(lst1)\n",
    "print(next(itrobj))\n",
    "#print(next(itrobj))\n"
   ]
  },
  {
   "cell_type": "markdown",
   "metadata": {},
   "source": [
    "#### Note: Iterator example\n",
    "* If any user defined class has __iter__ it should also have __next__ be implemented."
   ]
  },
  {
   "cell_type": "code",
   "execution_count": 9,
   "metadata": {},
   "outputs": [
    {
     "name": "stdout",
     "output_type": "stream",
     "text": [
      "10\n",
      "12\n",
      "---\n",
      "10\n",
      "12\n",
      "14\n",
      "16\n",
      "18\n"
     ]
    }
   ],
   "source": [
    "class myrange:\n",
    "    \n",
    "    def __init__(self,start,stop,step):\n",
    "        self.start,self.stop,self.step = start,stop,step\n",
    "        self.v = self.start\n",
    "    \n",
    "    #def __iter__(self):\n",
    "    #    return self\n",
    "    #'''\n",
    "    def __next__(self):\n",
    "        if self.start >= self.stop: return StopIteration() \n",
    "        self.v = self.start\n",
    "        self.start +=self.step\n",
    "        return self.v\n",
    "    #'''      \n",
    "r = myrange(10,20,2)\n",
    "print(next(r))\n",
    "print(next(r))\n",
    "print(\"---\")\n",
    "for i in range(10,20,2):\n",
    "    print(i)\n",
    "    "
   ]
  },
  {
   "cell_type": "markdown",
   "metadata": {},
   "source": [
    "####  Note:  Details of Python Special methods can be find in python org docs- https://docs.python.org/3/reference/datamodel.html#special-method-names"
   ]
  },
  {
   "cell_type": "code",
   "execution_count": null,
   "metadata": {},
   "outputs": [],
   "source": []
  }
 ],
 "metadata": {
  "kernelspec": {
   "display_name": "Python 3",
   "language": "python",
   "name": "python3"
  },
  "language_info": {
   "codemirror_mode": {
    "name": "ipython",
    "version": 3
   },
   "file_extension": ".py",
   "mimetype": "text/x-python",
   "name": "python",
   "nbconvert_exporter": "python",
   "pygments_lexer": "ipython3",
   "version": "3.7.0"
  }
 },
 "nbformat": 4,
 "nbformat_minor": 2
}
