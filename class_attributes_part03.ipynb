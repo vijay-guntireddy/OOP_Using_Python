{
 "cells": [
  {
   "cell_type": "markdown",
   "metadata": {},
   "source": [
    "#### Class Attributes vs Instance attributes"
   ]
  },
  {
   "cell_type": "code",
   "execution_count": 51,
   "metadata": {},
   "outputs": [
    {
     "name": "stdout",
     "output_type": "stream",
     "text": [
      "John\n",
      "2829607772992\n",
      "2829607772992\n",
      "2829607837368\n",
      "2829601724696\n",
      "Mohan\n",
      "suhel\n",
      "Mohan\n"
     ]
    }
   ],
   "source": [
    "class A:\n",
    "    data = \"John\"\n",
    "\n",
    "a = A()\n",
    "print(a.data)\n",
    "print(id(a.data))\n",
    "print(id(A.data))\n",
    "print(id(a))\n",
    "print(id(A))\n",
    "A.data = \"Mohan\"\n",
    "print(a.data)\n",
    "\n",
    "a.data = \"suhel\"\n",
    "print(a.data)\n",
    "print(A.data)"
   ]
  },
  {
   "cell_type": "code",
   "execution_count": 10,
   "metadata": {},
   "outputs": [
    {
     "name": "stdout",
     "output_type": "stream",
     "text": [
      "1\n",
      "2\n"
     ]
    }
   ],
   "source": [
    "class A:\n",
    "    count = 0;\n",
    "    \n",
    "    def operation(self):\n",
    "        self.count+=1\n",
    "    \n",
    "    def display(self):\n",
    "        print(self.count)\n",
    "\n",
    "a = A()\n",
    "\n",
    "a.operation()\n",
    "a.display()\n",
    "\n",
    "A.count = 100\n",
    "a.operation()\n",
    "a.display()\n",
    "\n"
   ]
  },
  {
   "cell_type": "markdown",
   "metadata": {},
   "source": [
    "#### Note:  \n",
    "* Class attributes are attributes which are owned by the class itself. They will be shared by all the instances of the class.\n",
    "* Instance attributes are owned by the specific instances of a class. This means for two different instances the instance attributes are usually different."
   ]
  },
  {
   "cell_type": "code",
   "execution_count": 11,
   "metadata": {},
   "outputs": [
    {
     "name": "stdout",
     "output_type": "stream",
     "text": [
      "101\n",
      "102\n"
     ]
    }
   ],
   "source": [
    "class A:\n",
    "\n",
    "    \n",
    "    def operation(self):\n",
    "        self.count+=1\n",
    "    \n",
    "    def display(self):\n",
    "        print(self.count)\n",
    "\n",
    "a = A()\n",
    "A.count = 100\n",
    "a.operation()\n",
    "a.display()\n",
    "\n",
    "A.count = 200\n",
    "a.operation()\n",
    "a.display()\n",
    "\n"
   ]
  },
  {
   "cell_type": "code",
   "execution_count": 18,
   "metadata": {},
   "outputs": [
    {
     "name": "stdout",
     "output_type": "stream",
     "text": [
      "<class '__main__.data_store'>\n",
      "2\n",
      "1\n"
     ]
    }
   ],
   "source": [
    "class data_store:\n",
    "    counter = 0\n",
    "    \n",
    "    def __init__(self):\n",
    "        self.count+=2\n",
    "        type(self).count+=1\n",
    "        \n",
    "d = data_store()\n",
    "print(type(d))\n",
    "print(data_store.count)\n",
    "print(d.count)"
   ]
  },
  {
   "cell_type": "markdown",
   "metadata": {},
   "source": [
    "#### Question: What is the best way to know no :of  objects active for a given class ...?"
   ]
  },
  {
   "cell_type": "code",
   "execution_count": 20,
   "metadata": {},
   "outputs": [
    {
     "name": "stdout",
     "output_type": "stream",
     "text": [
      "3\n",
      "2\n"
     ]
    }
   ],
   "source": [
    "class data_store:\n",
    "    counter = 0\n",
    "    \n",
    "    def __init__(self): \n",
    "        type(self).counter += 1\n",
    "\n",
    "    def __del__(self):\n",
    "        type(self).counter -= 1\n",
    "\n",
    "d1 = data_store()\n",
    "d2 = data_store()\n",
    "d3 = data_store()\n",
    "\n",
    "print(data_store.counter)\n",
    "del d3\n",
    "print(data_store.counter)\n"
   ]
  },
  {
   "cell_type": "markdown",
   "metadata": {},
   "source": [
    "#### Note: problem with above code is counter can be changed by any object"
   ]
  },
  {
   "cell_type": "code",
   "execution_count": 25,
   "metadata": {},
   "outputs": [
    {
     "name": "stdout",
     "output_type": "stream",
     "text": [
      "3\n",
      "2\n"
     ]
    }
   ],
   "source": [
    "class data_store:\n",
    "    __counter = 0\n",
    "    \n",
    "    def __init__(self): \n",
    "        type(self).__counter += 1\n",
    "\n",
    "    def __del__(self):\n",
    "        type(self).__counter -= 1\n",
    "        \n",
    "    def display_counter(self):\n",
    "        print(data_store.__counter)\n",
    "\n",
    "d1 = data_store()\n",
    "d2 = data_store()\n",
    "d3 = data_store()\n",
    "\n",
    "d1.display_counter()\n",
    "#print(data_store.counter)\n",
    "del d3\n",
    "d1.display_counter()\n",
    "#print(data_store.counter)"
   ]
  },
  {
   "cell_type": "markdown",
   "metadata": {},
   "source": [
    "#### Note: problem with above code is we need to have object to know the value of the class variable"
   ]
  },
  {
   "cell_type": "code",
   "execution_count": 34,
   "metadata": {},
   "outputs": [
    {
     "name": "stdout",
     "output_type": "stream",
     "text": [
      "10\n"
     ]
    }
   ],
   "source": [
    "class data_store:\n",
    "    __counter = 0\n",
    "    \n",
    "    def __init__(self): \n",
    "        type(self).__counter += 1\n",
    "\n",
    "    def __del__(self):\n",
    "        type(self).__counter -= 1\n",
    "    @staticmethod    \n",
    "    def display_counter():\n",
    "        data_store.__counter = 10\n",
    "        \n",
    "    def display(self):\n",
    "        print(self.__counter)\n",
    "\n",
    "d1 = data_store()\n",
    "d2 = data_store()\n",
    "d3 = data_store()\n",
    "\n",
    "\n",
    "d1.display_counter()\n",
    "d1.display()\n",
    "#print(data_store.counter)\n",
    "#del d3\n",
    "#data_store.display_counter()\n",
    "\n",
    "#print(data_store.counter)"
   ]
  },
  {
   "cell_type": "code",
   "execution_count": 37,
   "metadata": {},
   "outputs": [
    {
     "name": "stdout",
     "output_type": "stream",
     "text": [
      "<__main__.data_store object at 0x00000292D1C33F28>\n",
      "<class '__main__.data_store'>\n"
     ]
    }
   ],
   "source": [
    "class data_store:\n",
    "    \n",
    "    @classmethod    \n",
    "    def display_counter(self):\n",
    "        print(self)\n",
    "        #print(self.newv)\n",
    "        #self.__counter = 10\n",
    "        \n",
    "    \n",
    "d1 = data_store()\n",
    "print(d1)\n",
    "d1.newv =10\n",
    "d1.display_counter()\n"
   ]
  },
  {
   "cell_type": "code",
   "execution_count": 42,
   "metadata": {},
   "outputs": [
    {
     "name": "stdout",
     "output_type": "stream",
     "text": [
      "(1, 3)\n",
      "8\n"
     ]
    }
   ],
   "source": [
    "class fraction():\n",
    "\n",
    "   \n",
    "\n",
    "    @staticmethod\n",
    "    def gcd(a,b):\n",
    "        while b != 0:\n",
    "            a, b = b, a%b\n",
    "        return a\n",
    "\n",
    "    @classmethod\n",
    "    def reduce(cls, n1, n2):\n",
    "        g = cls.gcd(n1, n2)\n",
    "        return (n1 // g, n2 // g)\n",
    "\n",
    "    \n",
    "\n",
    "x = fraction()\n",
    "print(x.reduce(8,24))\n",
    "print(x.gcd(8,24))"
   ]
  },
  {
   "cell_type": "code",
   "execution_count": 44,
   "metadata": {},
   "outputs": [
    {
     "name": "stdout",
     "output_type": "stream",
     "text": [
      "This class is about pet animals!\n",
      "This class is about pet animals!\n",
      "This class is about pet animals!\n"
     ]
    }
   ],
   "source": [
    "class Pets:\n",
    "    name = \"pet animals\"\n",
    "\n",
    "    @staticmethod\n",
    "    def about():\n",
    "        print(\"This class is about {}!\".format(Pets.name))   \n",
    "    \n",
    "\n",
    "class Dogs(Pets):\n",
    "    name = \"'man's best friends' (Frederick II)\"\n",
    "\n",
    "class Cats(Pets):\n",
    "    name = \"cats\"\n",
    "\n",
    "p = Pets()\n",
    "p.about()\n",
    "d = Dogs()\n",
    "d.about()\n",
    "c = Cats()\n",
    "c.about()"
   ]
  },
  {
   "cell_type": "code",
   "execution_count": 45,
   "metadata": {},
   "outputs": [
    {
     "name": "stdout",
     "output_type": "stream",
     "text": [
      "This class is about pet animals!\n",
      "This class is about 'man's best friends' (Frederick II)!\n",
      "This class is about cats!\n"
     ]
    }
   ],
   "source": [
    "class Pets:\n",
    "    name = \"pet animals\"\n",
    "\n",
    "    @classmethod\n",
    "    def about(cls):\n",
    "        print(\"This class is about {}!\".format(cls.name))\n",
    "    \n",
    "class Dogs(Pets):\n",
    "    name = \"'man's best friends' (Frederick II)\"\n",
    "\n",
    "class Cats(Pets):\n",
    "    name = \"cats\"\n",
    "\n",
    "p = Pets()\n",
    "p.about()\n",
    "\n",
    "d = Dogs()\n",
    "d.about()\n",
    "\n",
    "c = Cats()\n",
    "c.about()"
   ]
  },
  {
   "cell_type": "markdown",
   "metadata": {},
   "source": [
    "#### Accumulator design pattern\n",
    "\n",
    "* In other languages we will have static function to maintain the states between different functions\n",
    "* same can be done in python use Accumulator design pattern"
   ]
  },
  {
   "cell_type": "code",
   "execution_count": 48,
   "metadata": {},
   "outputs": [
    {
     "name": "stdout",
     "output_type": "stream",
     "text": [
      "10\n",
      "30\n",
      "60\n",
      "60\n"
     ]
    }
   ],
   "source": [
    "class accumulator:\n",
    "    def __init__(self):\n",
    "        self.v = 0\n",
    "    def __call__(self,v=None):\n",
    "        if v is not None:\n",
    "            self.v = self.v + v\n",
    "        return self.v\n",
    "\n",
    "a = accumulator()\n",
    "print(a(10))\n",
    "print(a(20))\n",
    "print(a(30))\n",
    "print(a())\n",
    "    \n",
    "        "
   ]
  },
  {
   "cell_type": "code",
   "execution_count": null,
   "metadata": {},
   "outputs": [],
   "source": []
  }
 ],
 "metadata": {
  "kernelspec": {
   "display_name": "Python 3",
   "language": "python",
   "name": "python3"
  },
  "language_info": {
   "codemirror_mode": {
    "name": "ipython",
    "version": 3
   },
   "file_extension": ".py",
   "mimetype": "text/x-python",
   "name": "python",
   "nbconvert_exporter": "python",
   "pygments_lexer": "ipython3",
   "version": "3.7.0"
  }
 },
 "nbformat": 4,
 "nbformat_minor": 2
}
