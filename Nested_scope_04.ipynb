{
 "cells": [
  {
   "cell_type": "markdown",
   "metadata": {},
   "source": [
    "#### Nested Scope"
   ]
  },
  {
   "cell_type": "code",
   "execution_count": 2,
   "metadata": {},
   "outputs": [
    {
     "name": "stdout",
     "output_type": "stream",
     "text": [
      "in foo function\n",
      "in bar function\n",
      "in bar function\n",
      "in bar function\n"
     ]
    }
   ],
   "source": [
    "def foo():\n",
    "    print(\"in foo function\")\n",
    "    \n",
    "    def bar():\n",
    "        print(\"in bar function\")\n",
    "    \n",
    "    bar()\n",
    "    bar()\n",
    "    bar()\n",
    "\n",
    "foo()\n"
   ]
  },
  {
   "cell_type": "code",
   "execution_count": 3,
   "metadata": {},
   "outputs": [
    {
     "name": "stdout",
     "output_type": "stream",
     "text": [
      "in foo function\n",
      "in bar function\n"
     ]
    }
   ],
   "source": [
    "def foo():\n",
    "    print(\"in foo function\")\n",
    "    \n",
    "    def bar():\n",
    "        print(\"in bar function\")\n",
    "    \n",
    "    return bar\n",
    "\n",
    "b = foo() # foo will dynamically create the bar function  and return the reference to b , this is also called as factory pattern\n",
    "b()"
   ]
  },
  {
   "cell_type": "code",
   "execution_count": null,
   "metadata": {},
   "outputs": [],
   "source": []
  }
 ],
 "metadata": {
  "kernelspec": {
   "display_name": "Python 3",
   "language": "python",
   "name": "python3"
  },
  "language_info": {
   "codemirror_mode": {
    "name": "ipython",
    "version": 3
   },
   "file_extension": ".py",
   "mimetype": "text/x-python",
   "name": "python",
   "nbconvert_exporter": "python",
   "pygments_lexer": "ipython3",
   "version": "3.7.0"
  }
 },
 "nbformat": 4,
 "nbformat_minor": 2
}
