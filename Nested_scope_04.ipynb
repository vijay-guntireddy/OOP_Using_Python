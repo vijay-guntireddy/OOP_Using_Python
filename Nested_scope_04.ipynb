{
 "cells": [
  {
   "cell_type": "markdown",
   "metadata": {},
   "source": [
    "#### Nested Scope"
   ]
  },
  {
   "cell_type": "code",
   "execution_count": 2,
   "metadata": {},
   "outputs": [
    {
     "name": "stdout",
     "output_type": "stream",
     "text": [
      "in foo function\n",
      "in bar function\n",
      "in bar function\n",
      "in bar function\n"
     ]
    }
   ],
   "source": [
    "def foo():\n",
    "    print(\"in foo function\")\n",
    "    \n",
    "    def bar():  # encapsulation \n",
    "        print(\"in bar function\")\n",
    "    \n",
    "    bar()\n",
    "    bar()\n",
    "    bar()\n",
    "\n",
    "foo()\n",
    "bar() \n"
   ]
  },
  {
   "cell_type": "code",
   "execution_count": 3,
   "metadata": {},
   "outputs": [
    {
     "name": "stdout",
     "output_type": "stream",
     "text": [
      "in foo function\n",
      "in bar function\n"
     ]
    }
   ],
   "source": [
    "def foo():\n",
    "    print(\"in foo function\")\n",
    "    \n",
    "    def bar():\n",
    "        print(\"in bar function\")\n",
    "    \n",
    "    return bar\n",
    "\n",
    "b = foo() # foo will dynamically create the bar function  and return the reference to b , this is also called as factory pattern\n",
    "b()"
   ]
  },
  {
   "cell_type": "code",
   "execution_count": 5,
   "metadata": {},
   "outputs": [
    {
     "name": "stdout",
     "output_type": "stream",
     "text": [
      "in foo function\n",
      "in bar function 200\n"
     ]
    }
   ],
   "source": [
    "a = 100\n",
    "def foo():\n",
    "    a = 200\n",
    "    print(\"in foo function\")\n",
    "    \n",
    "    def bar():\n",
    "        print(\"in bar function\",a)\n",
    "        \n",
    "    bar()\n",
    "foo()"
   ]
  },
  {
   "cell_type": "code",
   "execution_count": 6,
   "metadata": {},
   "outputs": [
    {
     "name": "stdout",
     "output_type": "stream",
     "text": [
      "in foo function\n",
      "in bar function 200\n"
     ]
    }
   ],
   "source": [
    "a = 100\n",
    "def foo():\n",
    "    a = 200\n",
    "    print(\"in foo function\")\n",
    "    \n",
    "    def bar():\n",
    "        print(\"in bar function\",a)  #variable a context will not be destroyed as there is a reference for it through bar funciton.\n",
    "        \n",
    "    return bar\n",
    "b = foo()\n",
    "b()\n",
    "\n",
    "#nested static scope"
   ]
  },
  {
   "cell_type": "code",
   "execution_count": 10,
   "metadata": {},
   "outputs": [
    {
     "name": "stdout",
     "output_type": "stream",
     "text": [
      "{'baby', 'paul', 'john'}\n",
      "{'paul', 'john'}\n"
     ]
    }
   ],
   "source": [
    "def company():  # True encapsulation using def , here staff data cannot be access outside\n",
    "    staff = set()\n",
    "    \n",
    "    def hire(m):\n",
    "        staff.add(m)\n",
    "    def fire(m):\n",
    "        staff.remove(m)\n",
    "    def display():\n",
    "        print(staff)\n",
    "    \n",
    "    return hire,fire,display\n",
    "\n",
    "h,f,r = company()\n",
    "h(\"john\")\n",
    "h(\"paul\")\n",
    "h(\"baby\")\n",
    "r()\n",
    "f(\"baby\")\n",
    "r()"
   ]
  },
  {
   "cell_type": "code",
   "execution_count": 29,
   "metadata": {},
   "outputs": [
    {
     "name": "stdout",
     "output_type": "stream",
     "text": [
      "{'baby', 'paul', 'john'}\n",
      "{'mohan'}\n"
     ]
    }
   ],
   "source": [
    "class Company:   # This is example of true encapsulation using class, here staff is local variable which we cannot access through class\n",
    "    def __init__(self):\n",
    "        staff = set()\n",
    "        \n",
    "        def hire(m):\n",
    "            staff.add(m)\n",
    "        def fire(m):\n",
    "            staff.remove(m)\n",
    "        def display():\n",
    "            print(staff)\n",
    "        \n",
    "        self.hire,self.fire,self.display = hire,fire,display\n",
    "\n",
    "c = Company()\n",
    "c.hire(\"john\")\n",
    "c.hire(\"paul\")\n",
    "c.hire(\"baby\")\n",
    "c.display()\n",
    "c1 = Company()\n",
    "c1.hire(\"mohan\")\n",
    "c1.display()"
   ]
  },
  {
   "cell_type": "code",
   "execution_count": 42,
   "metadata": {},
   "outputs": [
    {
     "name": "stdout",
     "output_type": "stream",
     "text": [
      "hello\n"
     ]
    },
    {
     "ename": "NameError",
     "evalue": "name 'm' is not defined",
     "output_type": "error",
     "traceback": [
      "\u001b[1;31m---------------------------------------------------------------------------\u001b[0m",
      "\u001b[1;31mNameError\u001b[0m                                 Traceback (most recent call last)",
      "\u001b[1;32m<ipython-input-42-1246bb88cd91>\u001b[0m in \u001b[0;36m<module>\u001b[1;34m()\u001b[0m\n\u001b[0;32m     21\u001b[0m \u001b[0mc\u001b[0m\u001b[1;33m.\u001b[0m\u001b[0mhire\u001b[0m\u001b[1;33m(\u001b[0m\u001b[1;33m)\u001b[0m\u001b[1;33m\u001b[0m\u001b[0m\n\u001b[0;32m     22\u001b[0m \u001b[1;33m\u001b[0m\u001b[0m\n\u001b[1;32m---> 23\u001b[1;33m \u001b[0mprint\u001b[0m\u001b[1;33m(\u001b[0m\u001b[0mm\u001b[0m\u001b[1;33m)\u001b[0m\u001b[1;33m\u001b[0m\u001b[0m\n\u001b[0m\u001b[0;32m     24\u001b[0m \u001b[0mprint\u001b[0m\u001b[1;33m(\u001b[0m\u001b[0mc\u001b[0m\u001b[1;33m)\u001b[0m\u001b[1;33m\u001b[0m\u001b[0m\n",
      "\u001b[1;31mNameError\u001b[0m: name 'm' is not defined"
     ]
    }
   ],
   "source": [
    "class company:   # This is example of true encapsulation using class, here staff is local variable which we cannot access through class\n",
    "    #self.hire,self.fire,self.display = hire,fire,display\n",
    "    hire,fire = 10,20\n",
    "    #self.hire\n",
    "    def __init__(m):\n",
    "        staff = set()\n",
    "        \n",
    "    def hire(m):\n",
    "        print(\"hello\")\n",
    "    \n",
    "    def fire(m):\n",
    "        staff.remove(\"hello\")\n",
    "    def display(m):\n",
    "        print(staff)\n",
    "        \n",
    " \n",
    "\n",
    "#print(company.hire)\n",
    "#print(company.fire)\n",
    "\n",
    "c = company()\n",
    "c.hire()\n",
    "\n",
    "print(m)\n",
    "print(c)\n",
    "\n"
   ]
  },
  {
   "cell_type": "code",
   "execution_count": 15,
   "metadata": {},
   "outputs": [
    {
     "name": "stdout",
     "output_type": "stream",
     "text": [
      "{'hire': <function Company.__init__.<locals>.hire at 0x000002752E44B0D0>, 'fire': <function Company.__init__.<locals>.fire at 0x000002752E44B268>, 'display': <function Company.__init__.<locals>.display at 0x000002752E44B510>}\n"
     ]
    }
   ],
   "source": [
    "print(c.__dict__)"
   ]
  },
  {
   "cell_type": "code",
   "execution_count": 26,
   "metadata": {},
   "outputs": [
    {
     "name": "stdout",
     "output_type": "stream",
     "text": [
      "{}\n",
      "['__class__', '__delattr__', '__dict__', '__dir__', '__doc__', '__eq__', '__format__', '__ge__', '__getattribute__', '__gt__', '__hash__', '__init__', '__init_subclass__', '__le__', '__lt__', '__module__', '__ne__', '__new__', '__reduce__', '__reduce_ex__', '__repr__', '__setattr__', '__sizeof__', '__str__', '__subclasshook__', '__weakref__', 'func', 'name']\n"
     ]
    }
   ],
   "source": [
    "class abc:\n",
    "    name=0\n",
    "    def func():\n",
    "        {\n",
    "            print(\"hello\")\n",
    "        }\n",
    "\n",
    "a = abc()\n",
    "a.name\n",
    "#print(dict(a))\n",
    "print(a.__dict__)\n",
    "print(dir(a))"
   ]
  },
  {
   "cell_type": "code",
   "execution_count": 39,
   "metadata": {},
   "outputs": [
    {
     "ename": "NameError",
     "evalue": "name 'data4' is not defined",
     "output_type": "error",
     "traceback": [
      "\u001b[1;31m---------------------------------------------------------------------------\u001b[0m",
      "\u001b[1;31mNameError\u001b[0m                                 Traceback (most recent call last)",
      "\u001b[1;32m<ipython-input-39-2ba91ac3afc6>\u001b[0m in \u001b[0;36m<module>\u001b[1;34m()\u001b[0m\n\u001b[0;32m      5\u001b[0m     \u001b[0mprint\u001b[0m\u001b[1;33m(\u001b[0m\u001b[0mdata4\u001b[0m\u001b[1;33m)\u001b[0m\u001b[1;33m\u001b[0m\u001b[0m\n\u001b[0;32m      6\u001b[0m \u001b[1;33m\u001b[0m\u001b[0m\n\u001b[1;32m----> 7\u001b[1;33m \u001b[0mfunc\u001b[0m\u001b[1;33m(\u001b[0m\u001b[1;33m)\u001b[0m\u001b[1;33m\u001b[0m\u001b[0m\n\u001b[0m",
      "\u001b[1;32m<ipython-input-39-2ba91ac3afc6>\u001b[0m in \u001b[0;36mfunc\u001b[1;34m()\u001b[0m\n\u001b[0;32m      3\u001b[0m \u001b[1;33m\u001b[0m\u001b[0m\n\u001b[0;32m      4\u001b[0m \u001b[1;32mdef\u001b[0m \u001b[0mfunc\u001b[0m\u001b[1;33m(\u001b[0m\u001b[1;33m)\u001b[0m\u001b[1;33m:\u001b[0m\u001b[1;33m\u001b[0m\u001b[0m\n\u001b[1;32m----> 5\u001b[1;33m     \u001b[0mprint\u001b[0m\u001b[1;33m(\u001b[0m\u001b[0mdata4\u001b[0m\u001b[1;33m)\u001b[0m\u001b[1;33m\u001b[0m\u001b[0m\n\u001b[0m\u001b[0;32m      6\u001b[0m \u001b[1;33m\u001b[0m\u001b[0m\n\u001b[0;32m      7\u001b[0m \u001b[0mfunc\u001b[0m\u001b[1;33m(\u001b[0m\u001b[1;33m)\u001b[0m\u001b[1;33m\u001b[0m\u001b[0m\n",
      "\u001b[1;31mNameError\u001b[0m: name 'data4' is not defined"
     ]
    }
   ],
   "source": [
    "def func1():\n",
    "    data1 = 10\n",
    "\n",
    "def func():\n",
    "    print(data4)\n",
    "\n",
    "func()\n"
   ]
  },
  {
   "cell_type": "code",
   "execution_count": 56,
   "metadata": {},
   "outputs": [
    {
     "name": "stdout",
     "output_type": "stream",
     "text": [
      "{'attr2': 10}\n",
      "{'__module__': '__main__', 'attr1': 0, '__init__': <function abc.__init__ at 0x000002752E495EA0>, 'func': <function abc.func at 0x000002752E495D90>, '__dict__': <attribute '__dict__' of 'abc' objects>, '__weakref__': <attribute '__weakref__' of 'abc' objects>, '__doc__': None}\n",
      "10\n",
      "['__class__', '__delattr__', '__dict__', '__dir__', '__doc__', '__eq__', '__format__', '__ge__', '__getattribute__', '__gt__', '__hash__', '__init__', '__init_subclass__', '__le__', '__lt__', '__module__', '__ne__', '__new__', '__reduce__', '__reduce_ex__', '__repr__', '__setattr__', '__sizeof__', '__str__', '__subclasshook__', '__weakref__', 'attr1', 'attr2', 'func']\n",
      "False\n"
     ]
    }
   ],
   "source": [
    "class abc:\n",
    "    attr1 = 0\n",
    "    def __init__(self):\n",
    "        self.attr2 = 10\n",
    "    def func(self):\n",
    "        print(\"hello\")\n",
    "\n",
    "a = abc()\n",
    "#a.attr1 = 40\n",
    "print(a.__dict__)\n",
    "print(abc.__dict__)\n",
    "print(a.attr2)\n",
    "print(dir(a))\n",
    "print(callable(a.attr2))"
   ]
  },
  {
   "cell_type": "code",
   "execution_count": null,
   "metadata": {},
   "outputs": [],
   "source": []
  }
 ],
 "metadata": {
  "kernelspec": {
   "display_name": "Python 3",
   "language": "python",
   "name": "python3"
  },
  "language_info": {
   "codemirror_mode": {
    "name": "ipython",
    "version": 3
   },
   "file_extension": ".py",
   "mimetype": "text/x-python",
   "name": "python",
   "nbconvert_exporter": "python",
   "pygments_lexer": "ipython3",
   "version": "3.7.0"
  }
 },
 "nbformat": 4,
 "nbformat_minor": 2
}
