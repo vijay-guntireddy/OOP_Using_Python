{
 "cells": [
  {
   "cell_type": "markdown",
   "metadata": {},
   "source": [
    "## Benefits of OOPs..?\n",
    "* Provides better \"Delegation of Concern\" - When multiple programmers involve in a project\n",
    "* Interface is open and implementation is hidden\n",
    "* Kernel is still developed in C(not using OOPs)\n",
    "* Avoids tight coupling between components and projects become less complex"
   ]
  },
  {
   "cell_type": "markdown",
   "metadata": {},
   "source": [
    "## In python, programs are nothing but objects and there are three important relation between the objects.\n",
    "* IS-A - Inheritance(Generalization)\n",
    "* HAS-A - Composition(Reusability)\n",
    "* USES-A - Enapsulation(Contract/protocol for the objects to interact)"
   ]
  },
  {
   "cell_type": "markdown",
   "metadata": {},
   "source": [
    "## what is the use of inheritance ..? (IS-A)\n",
    "* if we use inheritance in our code for code reusability then it is bad design.\n",
    "* inheritance is for \"Generalization\".\n",
    "* Genralization Example : If we learn car driving in driving school then we can drive any car with same interface.\n",
    "* Following the trend and reusability is after effect."
   ]
  },
  {
   "cell_type": "markdown",
   "metadata": {},
   "source": [
    "## Composition(reusability) ..? (HAS-A)\n",
    "* Large object is the composition of smaller objects\n",
    "* Example : car having battery,tyres"
   ]
  },
  {
   "cell_type": "markdown",
   "metadata": {},
   "source": [
    "## USES-A ..?\n",
    "* A object knows how to interact with other object functions to serve a purpose\n",
    "* Example:\n",
    "* Robot knows how to drive a car\n",
    "* IF we give car object to robot it will drive.\n",
    "* Robot and car are two independent objects."
   ]
  },
  {
   "cell_type": "code",
   "execution_count": 31,
   "metadata": {},
   "outputs": [
    {
     "data": {
      "text/plain": [
       "int"
      ]
     },
     "execution_count": 31,
     "metadata": {},
     "output_type": "execute_result"
    }
   ],
   "source": [
    "a = 28490802348230948123094823049823049843023894092348209348109382048230948324091234021943810243810480803249482034982\n",
    "type(a)\n",
    "#a"
   ]
  },
  {
   "cell_type": "markdown",
   "metadata": {},
   "source": [
    "* Python internally written in C\n",
    "* In python every thing is an object.\n",
    "* Python objects are C structures which are allocated dynamically"
   ]
  },
  {
   "cell_type": "code",
   "execution_count": 32,
   "metadata": {},
   "outputs": [
    {
     "name": "stdout",
     "output_type": "stream",
     "text": [
      "4\n"
     ]
    }
   ],
   "source": [
    "def square(num): return num*num\n",
    "a= square\n",
    "\n",
    "def sq(a): print(a(2))\n",
    "\n",
    "sq(a)\n",
    "\n",
    "#print(a(3))\n",
    "#square"
   ]
  },
  {
   "cell_type": "markdown",
   "metadata": {},
   "source": [
    "#### Notes\n",
    "* Function name,Class name,module name all are variables (also called as identifiers)\n",
    "* Functions can be assigned to variable or pass as an argument to another function(High order functions)"
   ]
  },
  {
   "cell_type": "code",
   "execution_count": 33,
   "metadata": {},
   "outputs": [
    {
     "name": "stdout",
     "output_type": "stream",
     "text": [
      "<class 'type'>\n",
      "<class '__main__.car'>\n",
      "<class '__main__.car'>\n"
     ]
    },
    {
     "data": {
      "text/plain": [
       "<__main__.car at 0x2654d61dd30>"
      ]
     },
     "execution_count": 33,
     "metadata": {},
     "output_type": "execute_result"
    }
   ],
   "source": [
    "class car: pass\n",
    "van =car\n",
    "\n",
    "print(type(car))\n",
    "carobj = car()\n",
    "print(type(carobj))\n",
    "\n",
    "vanobj = van()\n",
    "print(type(vanobj))\n",
    "\n",
    "carobj"
   ]
  },
  {
   "cell_type": "markdown",
   "metadata": {},
   "source": [
    "#### Notes\n",
    "* Here car and van is the object of a class\n",
    "    * carobj is the object of car\n",
    "    * vanobj is the object of van\n",
    "* Variables in the python are references to object (objects are identified via references)\n",
    "    * square(2) --> here you are passing reference of 2 to a function.\n",
    "* Identifiers just like labels to real world objects\n",
    "* Refering to object in three forms\n",
    "    * Variables\n",
    "    * Attributes\n",
    "    * Items"
   ]
  },
  {
   "cell_type": "code",
   "execution_count": 34,
   "metadata": {},
   "outputs": [
    {
     "name": "stdout",
     "output_type": "stream",
     "text": [
      "<class '__main__.car'>\n",
      "<class 'str'>\n"
     ]
    },
    {
     "ename": "AttributeError",
     "evalue": "'car' object has no attribute 'color'",
     "output_type": "error",
     "traceback": [
      "\u001b[1;31m---------------------------------------------------------------------------\u001b[0m",
      "\u001b[1;31mAttributeError\u001b[0m                            Traceback (most recent call last)",
      "\u001b[1;32m<ipython-input-34-200b0bf8d5dc>\u001b[0m in \u001b[0;36m<module>\u001b[1;34m()\u001b[0m\n\u001b[0;32m      6\u001b[0m \u001b[0mb\u001b[0m\u001b[1;33m\u001b[0m\u001b[0m\n\u001b[0;32m      7\u001b[0m \u001b[1;31m#cube(3)\u001b[0m\u001b[1;33m\u001b[0m\u001b[1;33m\u001b[0m\u001b[0m\n\u001b[1;32m----> 8\u001b[1;33m \u001b[0mc\u001b[0m\u001b[1;33m.\u001b[0m\u001b[0mcolor\u001b[0m\u001b[1;33m\u001b[0m\u001b[0m\n\u001b[0m",
      "\u001b[1;31mAttributeError\u001b[0m: 'car' object has no attribute 'color'"
     ]
    }
   ],
   "source": [
    "#Difference between Variable and Attribute\n",
    "c = car()\n",
    "print(type(c))\n",
    "c.name = \"honda\"\n",
    "print(type(c.name))\n",
    "b\n",
    "#cube(3)\n",
    "c.color"
   ]
  },
  {
   "cell_type": "code",
   "execution_count": 35,
   "metadata": {},
   "outputs": [
    {
     "name": "stdout",
     "output_type": "stream",
     "text": [
      "2634113212232\n",
      "2634113212232\n",
      "2634113212232\n",
      "2634113188488\n"
     ]
    }
   ],
   "source": [
    "a = [10,20,30]\n",
    "\n",
    "name = \"hello\"\n",
    "c.name = name\n",
    "a[0] = name\n",
    "\n",
    "print(id(name))\n",
    "print(id(c.name))\n",
    "print(id(a[0]))\n",
    "print(id(a))\n",
    "\n",
    "#import sys\n",
    "#print(sys.getrefcount(name)-1)\n",
    "\n",
    "del name # deletes a label\n",
    "del c.name # deletes the attribute\n",
    "del a[0] # deletes the "
   ]
  },
  {
   "cell_type": "markdown",
   "metadata": {},
   "source": [
    "* \"a\" is variable refering to list object\n",
    "* list is collection of references\n",
    "* object reference count is 0 then python garbage collector will be automatically called.\n",
    "* All assignments work by \" Copying references\"\n",
    "* All expressions that result in an object will return the \"objects reference\"\n",
    "* Arguments passed to functions work by \"copying references\""
   ]
  },
  {
   "cell_type": "markdown",
   "metadata": {},
   "source": [
    "* In python all definitions happen in runtime , this makes it a fully dynamic programming language\n",
    "    * identifiers created and defined in runtime\n",
    "    "
   ]
  },
  {
   "cell_type": "code",
   "execution_count": 36,
   "metadata": {},
   "outputs": [
    {
     "ename": "UnboundLocalError",
     "evalue": "local variable 'b' referenced before assignment",
     "output_type": "error",
     "traceback": [
      "\u001b[1;31m---------------------------------------------------------------------------\u001b[0m",
      "\u001b[1;31mUnboundLocalError\u001b[0m                         Traceback (most recent call last)",
      "\u001b[1;32m<ipython-input-36-8a07bdf14847>\u001b[0m in \u001b[0;36m<module>\u001b[1;34m()\u001b[0m\n\u001b[0;32m      5\u001b[0m     \u001b[0mb\u001b[0m\u001b[1;33m=\u001b[0m\u001b[1;36m100\u001b[0m\u001b[1;33m\u001b[0m\u001b[0m\n\u001b[0;32m      6\u001b[0m \u001b[1;33m\u001b[0m\u001b[0m\n\u001b[1;32m----> 7\u001b[1;33m \u001b[0mfoo\u001b[0m\u001b[1;33m(\u001b[0m\u001b[1;33m)\u001b[0m\u001b[1;33m\u001b[0m\u001b[0m\n\u001b[0m\u001b[0;32m      8\u001b[0m \u001b[0mprint\u001b[0m\u001b[1;33m(\u001b[0m\u001b[1;34m\"in main : a is {}\"\u001b[0m\u001b[1;33m.\u001b[0m\u001b[0mformat\u001b[0m\u001b[1;33m(\u001b[0m\u001b[0mb\u001b[0m\u001b[1;33m)\u001b[0m\u001b[1;33m)\u001b[0m\u001b[1;33m\u001b[0m\u001b[0m\n",
      "\u001b[1;32m<ipython-input-36-8a07bdf14847>\u001b[0m in \u001b[0;36mfoo\u001b[1;34m()\u001b[0m\n\u001b[0;32m      2\u001b[0m \u001b[1;33m\u001b[0m\u001b[0m\n\u001b[0;32m      3\u001b[0m \u001b[1;32mdef\u001b[0m \u001b[0mfoo\u001b[0m\u001b[1;33m(\u001b[0m\u001b[1;33m)\u001b[0m\u001b[1;33m:\u001b[0m\u001b[1;33m\u001b[0m\u001b[0m\n\u001b[1;32m----> 4\u001b[1;33m     \u001b[0mprint\u001b[0m\u001b[1;33m(\u001b[0m\u001b[1;34m\"in foo : a is {}\"\u001b[0m\u001b[1;33m.\u001b[0m\u001b[0mformat\u001b[0m\u001b[1;33m(\u001b[0m\u001b[0mb\u001b[0m\u001b[1;33m)\u001b[0m\u001b[1;33m)\u001b[0m\u001b[1;33m\u001b[0m\u001b[0m\n\u001b[0m\u001b[0;32m      5\u001b[0m     \u001b[0mb\u001b[0m\u001b[1;33m=\u001b[0m\u001b[1;36m100\u001b[0m\u001b[1;33m\u001b[0m\u001b[0m\n\u001b[0;32m      6\u001b[0m \u001b[1;33m\u001b[0m\u001b[0m\n",
      "\u001b[1;31mUnboundLocalError\u001b[0m: local variable 'b' referenced before assignment"
     ]
    }
   ],
   "source": [
    "b = 200\n",
    "\n",
    "def foo():\n",
    "    print(\"in foo : a is {}\".format(b))\n",
    "    b=100\n",
    "\n",
    "foo()\n",
    "print(\"in main : a is {}\".format(b))"
   ]
  },
  {
   "cell_type": "markdown",
   "metadata": {},
   "source": [
    "* global b\n",
    "* all definitions inside a function is a local variable"
   ]
  },
  {
   "cell_type": "code",
   "execution_count": 37,
   "metadata": {},
   "outputs": [
    {
     "name": "stdout",
     "output_type": "stream",
     "text": [
      "in foo : a is [100, 200, 300]\n",
      "in main : a is [500, 200, 300]\n"
     ]
    }
   ],
   "source": [
    "b = [100,200,300]\n",
    "\n",
    "def foo():\n",
    "    print(\"in foo : a is {}\".format(b))\n",
    "    b[0] = 500\n",
    "    #b=[500,200,300]\n",
    "\n",
    "foo()\n",
    "print(\"in main : a is {}\".format(b))"
   ]
  },
  {
   "cell_type": "code",
   "execution_count": 38,
   "metadata": {},
   "outputs": [
    {
     "name": "stdout",
     "output_type": "stream",
     "text": [
      "Driving a car color - red\n",
      "self.color = Blue\n",
      "car.color = white\n"
     ]
    }
   ],
   "source": [
    "color = \"red\"\n",
    "\n",
    "class car:\n",
    "    color = \"white\"\n",
    "    \n",
    "    def __init__(self):\n",
    "        self.color = \"Blue\"\n",
    "    \n",
    "    def drive(self):\n",
    "        print(\"Driving a car color - {}\".format(color))\n",
    "        print(\"self.color = {}\".format(self.color))\n",
    "        print(\"car.color = {}\".format(car.color))\n",
    "\n",
    "c = car()\n",
    "c.drive()"
   ]
  },
  {
   "cell_type": "markdown",
   "metadata": {},
   "source": [
    "* color in side a class is a attribute and it can be access with \".\""
   ]
  },
  {
   "cell_type": "code",
   "execution_count": 39,
   "metadata": {},
   "outputs": [
    {
     "name": "stdout",
     "output_type": "stream",
     "text": [
      "<module '__main__'>\n",
      "100\n",
      "200\n"
     ]
    }
   ],
   "source": [
    "import __main__\n",
    "print(__main__)\n",
    "name = 100\n",
    "print(__main__.name)\n",
    "__main__.name = 200\n",
    "print(name)\n"
   ]
  },
  {
   "cell_type": "markdown",
   "metadata": {},
   "source": [
    "####  Python Facts:\n",
    "* All python programs run under a module called \"__main__\"\n",
    "* All Global variables are the attributes of main module\n",
    "* In the above program global variable \"name\" is an attribute of __main__"
   ]
  },
  {
   "cell_type": "code",
   "execution_count": 40,
   "metadata": {},
   "outputs": [
    {
     "name": "stdout",
     "output_type": "stream",
     "text": [
      "__name__ = testmodule\n",
      "aap\n",
      "10\n"
     ]
    }
   ],
   "source": [
    "import testmodule\n",
    "print(testmodule.name)\n",
    "print(testmodule.value)\n",
    "\n",
    "# if __name__ == \"__main__\"\n",
    "# if testmodule executed directly __name__ will be __main__\n",
    "# if testmodule imported in any python file then __name__ becomes the name of the module."
   ]
  },
  {
   "cell_type": "code",
   "execution_count": 41,
   "metadata": {},
   "outputs": [
    {
     "name": "stdout",
     "output_type": "stream",
     "text": [
      "RMNET Address is expected\n"
     ]
    }
   ],
   "source": [
    "expected_result = True\n",
    "print(\"RMNET Address is \" + (\"not \" if not expected_result else \"\") + \"expected\")"
   ]
  },
  {
   "cell_type": "markdown",
   "metadata": {},
   "source": [
    "#### Python Facts:\n",
    "* special characters at right hand side are converted to functions in comiple time"
   ]
  },
  {
   "cell_type": "code",
   "execution_count": 42,
   "metadata": {},
   "outputs": [
    {
     "name": "stdout",
     "output_type": "stream",
     "text": [
      "30\n",
      "30\n",
      "30\n"
     ]
    }
   ],
   "source": [
    "a = 10\n",
    "b = 20\n",
    "c = a+b\n",
    "print(c)\n",
    "d = a.__add__(b)\n",
    "print(d)\n",
    "e = int.__add__(a,b)\n",
    "print(e)"
   ]
  },
  {
   "cell_type": "code",
   "execution_count": 43,
   "metadata": {},
   "outputs": [
    {
     "name": "stdout",
     "output_type": "stream",
     "text": [
      "10\n",
      "10\n"
     ]
    }
   ],
   "source": [
    "a = [10,20,30]\n",
    "b = a[0]\n",
    "print(b)\n",
    "c = a.__getitem__(0)\n",
    "print(c)"
   ]
  },
  {
   "cell_type": "code",
   "execution_count": 44,
   "metadata": {},
   "outputs": [
    {
     "name": "stdout",
     "output_type": "stream",
     "text": [
      "[100, 20, 30]\n"
     ]
    }
   ],
   "source": [
    "a[0] = 100\n",
    "a.__setitem__(0,100)\n",
    "print(a)"
   ]
  },
  {
   "cell_type": "code",
   "execution_count": 45,
   "metadata": {},
   "outputs": [
    {
     "name": "stdout",
     "output_type": "stream",
     "text": [
      "4\n",
      "4\n"
     ]
    }
   ],
   "source": [
    "def square(x): return x*x\n",
    "print(square(2))\n",
    "print(square.__call__(2))\n",
    "    "
   ]
  },
  {
   "cell_type": "code",
   "execution_count": 46,
   "metadata": {},
   "outputs": [
    {
     "name": "stdout",
     "output_type": "stream",
     "text": [
      "{'name': 'Honda', 'tyres': 'MRF'}\n",
      "john\n",
      "john\n"
     ]
    }
   ],
   "source": [
    "class car: pass\n",
    "c= car()\n",
    "c.name = \"Honda\"\n",
    "c.tyres = \"MRF\"\n",
    "car.owner = \"john\"\n",
    "print(c.__dict__)\n",
    "print(c.owner)\n",
    "print(c.__dict__.get(\"owner\",c.__class__.__dict__.get(\"owner\")))"
   ]
  },
  {
   "cell_type": "code",
   "execution_count": 47,
   "metadata": {},
   "outputs": [
    {
     "name": "stdout",
     "output_type": "stream",
     "text": [
      "4.0\n",
      "4.0\n"
     ]
    }
   ],
   "source": [
    "import sys\n",
    "print(sys.version)\n",
    "sys.version = 4.0\n",
    "print(sys.version)"
   ]
  },
  {
   "cell_type": "code",
   "execution_count": 48,
   "metadata": {},
   "outputs": [
    {
     "name": "stdout",
     "output_type": "stream",
     "text": [
      "{}\n",
      "{}\n",
      "{'name': 'Honda'}\n",
      "{}\n",
      "driving  Honda\n",
      "driving  john\n",
      "driving  Honda\n",
      "driving  Honda\n"
     ]
    }
   ],
   "source": [
    "class car: pass\n",
    "c1 = car()\n",
    "c2 = car()\n",
    "print(c1.__dict__)\n",
    "print(c2.__dict__)\n",
    "c1.name = \"Honda\"  # instance method\n",
    "print(c1.__dict__)\n",
    "print(c2.__dict__)\n",
    "#print(car.__dict__)\n",
    "def driving(c):\n",
    "    print(\"driving \",c.name)\n",
    "driving(c1)\n",
    "\n",
    "class person:\n",
    "    name = \"john\"\n",
    "p1 = person()\n",
    "driving(p1)\n",
    "\n",
    "car.drive = driving  # class method\n",
    "car.drive(c1)\n",
    "c1.drive()"
   ]
  }
 ],
 "metadata": {
  "kernelspec": {
   "display_name": "Python 3",
   "language": "python",
   "name": "python3"
  },
  "language_info": {
   "codemirror_mode": {
    "name": "ipython",
    "version": 3
   },
   "file_extension": ".py",
   "mimetype": "text/x-python",
   "name": "python",
   "nbconvert_exporter": "python",
   "pygments_lexer": "ipython3",
   "version": "3.7.0"
  }
 },
 "nbformat": 4,
 "nbformat_minor": 2
}
