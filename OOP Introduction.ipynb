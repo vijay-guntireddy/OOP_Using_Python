{
 "cells": [
  {
   "cell_type": "markdown",
   "metadata": {},
   "source": [
    "## Benefits of OOPs..?\n",
    "* Provides better \"Delegation of Concern\" - When multiple programmers involve in a project\n",
    "* Interface is open and implementation is hidden\n",
    "* Kernel is still developed in C(not using OOPs)\n",
    "* Avoids tight coupling between components and projects become less complex"
   ]
  },
  {
   "cell_type": "markdown",
   "metadata": {},
   "source": [
    "## In python programs are nothing but objects and there are three important relation between the objects.\n",
    "* IS-A - Inheritance(Generalization)\n",
    "* HAS-A - Composition(Reusability)\n",
    "* USES-A - Enapsulation(Contract/protocol for the objects to interact)"
   ]
  },
  {
   "cell_type": "markdown",
   "metadata": {},
   "source": [
    "## what is the use of inheritance ..?\n",
    "* if we use inheritance in our code for code reusability then it is bad design.\n",
    "* inheritance is for \"Generalization\".\n",
    "* Genralization Example : If we learn car driving in driving school then we can drive any car with same interface.\n",
    "* Following the trend and reusability is after effect."
   ]
  },
  {
   "cell_type": "markdown",
   "metadata": {},
   "source": [
    "## Composition(reusability) ..?\n",
    "* Large object is the composition of smaller objects\n",
    "* Example : car having battery,tyres"
   ]
  },
  {
   "cell_type": "markdown",
   "metadata": {},
   "source": [
    "## USES-A ..?\n",
    "* A object knows how to interact with other object functions to serve a purpose\n",
    "* Example:\n",
    "* Robot knows how to drive a car\n",
    "* IF we give car object to robot it will drive.\n",
    "* Robot and car are two independent objects."
   ]
  },
  {
   "cell_type": "code",
   "execution_count": 4,
   "metadata": {},
   "outputs": [
    {
     "data": {
      "text/plain": [
       "int"
      ]
     },
     "execution_count": 4,
     "metadata": {},
     "output_type": "execute_result"
    }
   ],
   "source": [
    "a = 28490802348230948123094823049823049843023894092348209348109382048230948324091234021943810243810480803249482034982\n",
    "type(a)"
   ]
  },
  {
   "cell_type": "markdown",
   "metadata": {},
   "source": [
    "* Python internally written in C\n",
    "* In python every thing is an object.\n",
    "* Python objects are C structures which are allocated dynamically"
   ]
  },
  {
   "cell_type": "code",
   "execution_count": 10,
   "metadata": {},
   "outputs": [
    {
     "name": "stdout",
     "output_type": "stream",
     "text": [
      "9\n"
     ]
    },
    {
     "data": {
      "text/plain": [
       "<function __main__.square(num)>"
      ]
     },
     "execution_count": 10,
     "metadata": {},
     "output_type": "execute_result"
    }
   ],
   "source": [
    "def square(num): return num*num\n",
    "a= square\n",
    "print(a(3))\n",
    "square"
   ]
  },
  {
   "cell_type": "markdown",
   "metadata": {},
   "source": [
    "#### Notes\n",
    "* Function name,Class name,module name all are variables (also called as identifiers)\n",
    "* Functions can be assigned to variable or pass as an argument to another function(High order functions)"
   ]
  },
  {
   "cell_type": "code",
   "execution_count": 15,
   "metadata": {},
   "outputs": [
    {
     "name": "stdout",
     "output_type": "stream",
     "text": [
      "<class 'type'>\n",
      "<class '__main__.car'>\n",
      "<class '__main__.car'>\n"
     ]
    },
    {
     "data": {
      "text/plain": [
       "<__main__.car at 0x19983fba400>"
      ]
     },
     "execution_count": 15,
     "metadata": {},
     "output_type": "execute_result"
    }
   ],
   "source": [
    "class car: pass\n",
    "van =car\n",
    "\n",
    "print(type(car))\n",
    "carobj = car()\n",
    "print(type(carobj))\n",
    "\n",
    "vanobj = van()\n",
    "print(type(vanobj))\n",
    "\n",
    "carobj"
   ]
  },
  {
   "cell_type": "markdown",
   "metadata": {},
   "source": [
    "#### Notes\n",
    "* Here car and van is the object of a class\n",
    "    * carobj is the object of car\n",
    "    * vanobj is the object of van\n",
    "* Variables in the python are references to object (objects are identified via references)\n",
    "    * square(2) --> here you are passing reference of 2 to a function.\n",
    "* Identifiers just like labels to real world objects\n",
    "* Refering to object in three forms\n",
    "    * Variables\n",
    "    * Attributes\n",
    "    * Items"
   ]
  },
  {
   "cell_type": "code",
   "execution_count": 22,
   "metadata": {},
   "outputs": [
    {
     "name": "stdout",
     "output_type": "stream",
     "text": [
      "<class '__main__.car'>\n",
      "<class 'str'>\n"
     ]
    },
    {
     "ename": "AttributeError",
     "evalue": "'car' object has no attribute 'color'",
     "output_type": "error",
     "traceback": [
      "\u001b[1;31m---------------------------------------------------------------------------\u001b[0m",
      "\u001b[1;31mAttributeError\u001b[0m                            Traceback (most recent call last)",
      "\u001b[1;32m<ipython-input-22-4c21ccbb91ff>\u001b[0m in \u001b[0;36m<module>\u001b[1;34m()\u001b[0m\n\u001b[0;32m      6\u001b[0m \u001b[1;31m#b\u001b[0m\u001b[1;33m\u001b[0m\u001b[1;33m\u001b[0m\u001b[0m\n\u001b[0;32m      7\u001b[0m \u001b[1;31m#cube(3)\u001b[0m\u001b[1;33m\u001b[0m\u001b[1;33m\u001b[0m\u001b[0m\n\u001b[1;32m----> 8\u001b[1;33m \u001b[0mc\u001b[0m\u001b[1;33m.\u001b[0m\u001b[0mcolor\u001b[0m\u001b[1;33m\u001b[0m\u001b[0m\n\u001b[0m",
      "\u001b[1;31mAttributeError\u001b[0m: 'car' object has no attribute 'color'"
     ]
    }
   ],
   "source": [
    "#Difference between Variable and Attribute\n",
    "c = car()\n",
    "print(type(c))\n",
    "c.name = \"honda\"\n",
    "print(type(c.name))\n",
    "#b\n",
    "#cube(3)\n",
    "c.color"
   ]
  },
  {
   "cell_type": "code",
   "execution_count": null,
   "metadata": {},
   "outputs": [],
   "source": []
  }
 ],
 "metadata": {
  "kernelspec": {
   "display_name": "Python 3",
   "language": "python",
   "name": "python3"
  },
  "language_info": {
   "codemirror_mode": {
    "name": "ipython",
    "version": 3
   },
   "file_extension": ".py",
   "mimetype": "text/x-python",
   "name": "python",
   "nbconvert_exporter": "python",
   "pygments_lexer": "ipython3",
   "version": "3.7.0"
  }
 },
 "nbformat": 4,
 "nbformat_minor": 2
}
