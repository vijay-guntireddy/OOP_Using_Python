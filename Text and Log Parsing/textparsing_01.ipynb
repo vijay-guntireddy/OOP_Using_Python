{
 "cells": [
  {
   "cell_type": "markdown",
   "metadata": {},
   "source": [
    "https://timothybramlett.com/Strings_Bytes_and_Unicode_in_Python_2_and_3.html "
   ]
  },
  {
   "cell_type": "markdown",
   "metadata": {},
   "source": [
    "https://unicode-table.com/en/#control-character "
   ]
  },
  {
   "cell_type": "code",
   "execution_count": 1,
   "metadata": {},
   "outputs": [
    {
     "data": {
      "text/plain": [
       "str"
      ]
     },
     "execution_count": 1,
     "metadata": {},
     "output_type": "execute_result"
    }
   ],
   "source": [
    "b = \"test\"\n",
    "type(b)"
   ]
  },
  {
   "cell_type": "code",
   "execution_count": 25,
   "metadata": {},
   "outputs": [
    {
     "data": {
      "text/plain": [
       "10"
      ]
     },
     "execution_count": 25,
     "metadata": {},
     "output_type": "execute_result"
    }
   ],
   "source": [
    "a = b\"this is a test\"\n",
    "b = b\"test\"\n",
    "a.find(b)"
   ]
  },
  {
   "cell_type": "code",
   "execution_count": 32,
   "metadata": {},
   "outputs": [
    {
     "name": "stdout",
     "output_type": "stream",
     "text": [
      "© hello <class 'str'>\n"
     ]
    }
   ],
   "source": [
    "#b = aaa\n",
    "a = \"\\u00a9 hello\"\n",
    "print(a,type(a))"
   ]
  },
  {
   "cell_type": "code",
   "execution_count": 5,
   "metadata": {},
   "outputs": [
    {
     "name": "stdout",
     "output_type": "stream",
     "text": [
      "b'\\\\u00a9 hello' <class 'bytes'>\n"
     ]
    }
   ],
   "source": [
    "a = b\"\\u00a9 hello\"\n",
    "print(a,type(a))"
   ]
  },
  {
   "cell_type": "code",
   "execution_count": 6,
   "metadata": {},
   "outputs": [
    {
     "name": "stdout",
     "output_type": "stream",
     "text": [
      "©\n",
      " \n",
      "h\n",
      "e\n",
      "l\n",
      "l\n",
      "o\n"
     ]
    }
   ],
   "source": [
    "a = \"\\u00a9 hello\"\n",
    "for c in a:\n",
    "    print(c)"
   ]
  },
  {
   "cell_type": "code",
   "execution_count": 7,
   "metadata": {},
   "outputs": [
    {
     "name": "stdout",
     "output_type": "stream",
     "text": [
      "92\n",
      "117\n",
      "48\n",
      "48\n",
      "97\n",
      "57\n",
      "32\n",
      "104\n",
      "101\n",
      "108\n",
      "108\n",
      "111\n"
     ]
    }
   ],
   "source": [
    "a = b\"\\u00a9 hello\"\n",
    "for c in a:\n",
    "    print(c)"
   ]
  },
  {
   "cell_type": "code",
   "execution_count": 9,
   "metadata": {},
   "outputs": [
    {
     "name": "stdout",
     "output_type": "stream",
     "text": [
      "92 \\\n",
      "117 u\n",
      "48 0\n",
      "48 0\n",
      "97 a\n",
      "57 9\n",
      "32  \n",
      "104 h\n",
      "101 e\n",
      "108 l\n",
      "108 l\n",
      "111 o\n"
     ]
    }
   ],
   "source": [
    "a = b\"\\u00a9 hello\"\n",
    "for c in a:\n",
    "    print(c,chr(c))"
   ]
  },
  {
   "cell_type": "markdown",
   "metadata": {},
   "source": [
    "There are two ways we can read a file  1. entire file as string 2. line by line as a list"
   ]
  },
  {
   "cell_type": "code",
   "execution_count": 34,
   "metadata": {},
   "outputs": [
    {
     "name": "stdout",
     "output_type": "stream",
     "text": [
      "\n",
      "Contributing towards integration activities for future chipset platforms, working as integration specialist for end to end target \n",
      "activities\n",
      "related to wireless embedded software integration & testing (contributing & leading challenges tasks in all phases of product life-cycle \n",
      "right from conceptualization of new chip to final customer launches)\n",
      "\n",
      "7 are related to CDMA\n",
      "2 CSFB\n",
      "2 Emergency\n"
     ]
    },
    {
     "data": {
      "text/plain": [
       "str"
      ]
     },
     "execution_count": 34,
     "metadata": {},
     "output_type": "execute_result"
    }
   ],
   "source": [
    "with open(\"data.txt\") as infile:\n",
    "    content = infile.read()\n",
    "    \n",
    "print(content)\n",
    "type(content)"
   ]
  },
  {
   "cell_type": "code",
   "execution_count": 35,
   "metadata": {},
   "outputs": [
    {
     "name": "stdout",
     "output_type": "stream",
     "text": [
      "['\\n', 'Contributing towards integration activities for future chipset platforms, working as integration specialist for end to end target \\n', 'activities\\n', 'related to wireless embedded software integration & testing (contributing & leading challenges tasks in all phases of product life-cycle \\n', 'right from conceptualization of new chip to final customer launches)\\n', '\\n', '7 are related to CDMA\\n', '2 CSFB\\n', '2 Emergency']\n"
     ]
    }
   ],
   "source": [
    "with open(\"data.txt\") as infile:\n",
    "    content = infile.readlines()\n",
    "    \n",
    "print(content)"
   ]
  },
  {
   "cell_type": "code",
   "execution_count": 40,
   "metadata": {},
   "outputs": [
    {
     "name": "stdout",
     "output_type": "stream",
     "text": [
      "Contributing towards integration activities for future chipset platforms, working as integration specialist for end to end target \n",
      "\n",
      "activities\n",
      "\n"
     ]
    }
   ],
   "source": [
    "with open(\"data.txt\") as infile:\n",
    "    print(infile.readline())\n",
    "    print(infile.readline())"
   ]
  },
  {
   "cell_type": "code",
   "execution_count": 39,
   "metadata": {},
   "outputs": [
    {
     "name": "stdout",
     "output_type": "stream",
     "text": [
      "Contributing towards integration activities for future chipset platforms, working as integration specialist for end to end target \n",
      "\n",
      "activities\n",
      "\n",
      "related to wireless embedded software integration & testing (contributing & leading challenges tasks in all phases of product life-cycle \n",
      "\n",
      "right from conceptualization of new chip to final customer launches)\n",
      "\n",
      "\n",
      "\n",
      "7 are related to CDMA\n",
      "\n",
      "2 CSFB\n",
      "\n",
      "2 Emergency\n"
     ]
    }
   ],
   "source": [
    "with open(\"data.txt\") as infile:\n",
    "    for line in infile:\n",
    "        print(line)        "
   ]
  },
  {
   "cell_type": "code",
   "execution_count": 41,
   "metadata": {},
   "outputs": [
    {
     "name": "stdout",
     "output_type": "stream",
     "text": [
      "Contributing towards integration activities for future chipset platforms, working as integration specialist for end to end target \n",
      "\n"
     ]
    }
   ],
   "source": [
    "with open(\"data.txt\") as infile:\n",
    "    for line in infile:\n",
    "        if \"future\" in line:\n",
    "            print(line)"
   ]
  },
  {
   "cell_type": "code",
   "execution_count": 71,
   "metadata": {},
   "outputs": [
    {
     "name": "stdout",
     "output_type": "stream",
     "text": [
      "\n"
     ]
    }
   ],
   "source": [
    "infile_new = open(\"data_log.txt\")\n",
    "infile_new.tell()\n",
    "print(infile_new.read(5))"
   ]
  },
  {
   "cell_type": "code",
   "execution_count": 72,
   "metadata": {},
   "outputs": [
    {
     "data": {
      "text/plain": [
       "''"
      ]
     },
     "execution_count": 72,
     "metadata": {},
     "output_type": "execute_result"
    }
   ],
   "source": [
    "infile.read(5)"
   ]
  },
  {
   "cell_type": "code",
   "execution_count": 60,
   "metadata": {},
   "outputs": [
    {
     "data": {
      "text/plain": [
       "0"
      ]
     },
     "execution_count": 60,
     "metadata": {},
     "output_type": "execute_result"
    }
   ],
   "source": [
    "infile.tell()"
   ]
  },
  {
   "cell_type": "code",
   "execution_count": 57,
   "metadata": {},
   "outputs": [
    {
     "ename": "UnsupportedOperation",
     "evalue": "not readable",
     "output_type": "error",
     "traceback": [
      "\u001b[1;31m---------------------------------------------------------------------------\u001b[0m",
      "\u001b[1;31mUnsupportedOperation\u001b[0m                      Traceback (most recent call last)",
      "\u001b[1;32m<ipython-input-57-ea7281f727b3>\u001b[0m in \u001b[0;36m<module>\u001b[1;34m()\u001b[0m\n\u001b[1;32m----> 1\u001b[1;33m \u001b[0minfile\u001b[0m\u001b[1;33m.\u001b[0m\u001b[0mread\u001b[0m\u001b[1;33m(\u001b[0m\u001b[1;36m25\u001b[0m\u001b[1;33m)\u001b[0m\u001b[1;33m\u001b[0m\u001b[0m\n\u001b[0m\u001b[0;32m      2\u001b[0m \u001b[0minfile\u001b[0m\u001b[1;33m.\u001b[0m\u001b[0mtell\u001b[0m\u001b[1;33m(\u001b[0m\u001b[1;33m)\u001b[0m\u001b[1;33m\u001b[0m\u001b[0m\n",
      "\u001b[1;31mUnsupportedOperation\u001b[0m: not readable"
     ]
    }
   ],
   "source": [
    "infile.read(25)\n",
    "infile.tell()"
   ]
  },
  {
   "cell_type": "code",
   "execution_count": 48,
   "metadata": {},
   "outputs": [
    {
     "data": {
      "text/plain": [
       "True"
      ]
     },
     "execution_count": 48,
     "metadata": {},
     "output_type": "execute_result"
    }
   ],
   "source": [
    "infile.seekable()"
   ]
  },
  {
   "cell_type": "code",
   "execution_count": 49,
   "metadata": {},
   "outputs": [
    {
     "data": {
      "text/plain": [
       "True"
      ]
     },
     "execution_count": 49,
     "metadata": {},
     "output_type": "execute_result"
    }
   ],
   "source": [
    "infile.readable()"
   ]
  },
  {
   "cell_type": "code",
   "execution_count": 50,
   "metadata": {},
   "outputs": [
    {
     "data": {
      "text/plain": [
       "False"
      ]
     },
     "execution_count": 50,
     "metadata": {},
     "output_type": "execute_result"
    }
   ],
   "source": [
    "infile.writable()"
   ]
  },
  {
   "cell_type": "code",
   "execution_count": 52,
   "metadata": {},
   "outputs": [],
   "source": [
    "class person:\n",
    "    \n",
    "    def func():\n",
    "        pass\n"
   ]
  },
  {
   "cell_type": "code",
   "execution_count": null,
   "metadata": {},
   "outputs": [],
   "source": []
  }
 ],
 "metadata": {
  "kernelspec": {
   "display_name": "Python 3",
   "language": "python",
   "name": "python3"
  },
  "language_info": {
   "codemirror_mode": {
    "name": "ipython",
    "version": 3
   },
   "file_extension": ".py",
   "mimetype": "text/x-python",
   "name": "python",
   "nbconvert_exporter": "python",
   "pygments_lexer": "ipython3",
   "version": "3.7.0"
  }
 },
 "nbformat": 4,
 "nbformat_minor": 2
}
