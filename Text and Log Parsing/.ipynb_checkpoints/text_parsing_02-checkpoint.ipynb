{
 "cells": [
  {
   "cell_type": "markdown",
   "metadata": {},
   "source": [
    "### Regular expression\n",
    "* Regular expression is used for pattern matching , for simple text search regular expression is not required.\n",
    "*  Example: if you find a string in all the lines of log \"re\" will be useful\n",
    "\n",
    "#### With *RE* we can do three things\n",
    "* Check whether a string/pattern \"matches\" a pattern\n",
    "* \"Extract\" part/complete matched string.\n",
    "* \"Substitute\" parts of a string that matched pattern"
   ]
  },
  {
   "cell_type": "code",
   "execution_count": 1,
   "metadata": {},
   "outputs": [
    {
     "data": {
      "text/plain": [
       "<function re.subn(pattern, repl, string, count=0, flags=0)>"
      ]
     },
     "execution_count": 1,
     "metadata": {},
     "output_type": "execute_result"
    }
   ],
   "source": [
    "import re\n",
    "re.search\n",
    "re.match\n",
    "\n",
    "re.findall\n",
    "re.finditer\n",
    "\n",
    "re.sub\n",
    "re.subn"
   ]
  },
  {
   "cell_type": "code",
   "execution_count": 6,
   "metadata": {},
   "outputs": [
    {
     "name": "stdout",
     "output_type": "stream",
     "text": [
      "<re.Match object; span=(11, 15), match='this'>\n",
      "this\n",
      "11\n",
      "15\n",
      "(11, 15)\n"
     ]
    }
   ],
   "source": [
    "import re\n",
    "a = \"fsjdkfjskf this sdjfklsdjfsaklfd\"\n",
    "m = re.search(\"this\",a)\n",
    "print(m)\n",
    "print(m.group())\n",
    "print(m.start())\n",
    "print(m.end())\n",
    "print(m.span())\n"
   ]
  },
  {
   "cell_type": "code",
   "execution_count": null,
   "metadata": {},
   "outputs": [],
   "source": [
    "import re\n",
    "\n",
    "regex = input(\"Enter Pattern :\")\n",
    "pattern = re.compile(regex)\n",
    "\n",
    "while True:\n",
    "    data = input(\"Enter String:\")\n",
    "    m = pattern.search(data) # searches entire string for the pattern\n",
    "    if m:\n",
    "        print(\"match found\")\n",
    "        print(\" \",m.span(),m.group())\n",
    "    else:\n",
    "        print(\"match not found\")"
   ]
  },
  {
   "cell_type": "code",
   "execution_count": null,
   "metadata": {},
   "outputs": [],
   "source": [
    "import re\n",
    "\n",
    "regex = input(\"Enter Pattern :\")\n",
    "pattern = re.compile(regex)\n",
    "\n",
    "while True:\n",
    "    data = input(\"Enter String:\")\n",
    "    m = pattern.match(data) # expect pattern matches from the start of the string.\n",
    "    if m:\n",
    "        print(\"match found\")\n",
    "        print(\" \",m.span(),m.group())\n",
    "    else:\n",
    "        print(\"match not found\")"
   ]
  },
  {
   "cell_type": "code",
   "execution_count": null,
   "metadata": {},
   "outputs": [],
   "source": [
    "th[ui]s  - either u or i\n",
    "thi?s  - it will accept either i or no i\n",
    "th[i+]s - 1 or more occurence of i\n",
    "th[i*]s - 0 or more occurence of i\n",
    "th[aeiou][aeiou]s  - two sets\n",
    "th[aeiou]+s  \n",
    "th[0-9A-Fa-f]s  \n",
    "^[0-9A-Fa-f]  - starts with\n",
    "^[0-9A-Fa-f]$  - ends with\n",
    "^0[Xx][0-9A-Fa-f]+$ - hexadecimal\n",
    "\n",
    "/d - [0-9]  - digit\n",
    "/w - [A-Za-z0-9_]  - any character including _\n",
    "/s - [ \\t\\n\\r] - space\n",
    "\n",
    "\\D - [^0-9]  - other than digit\n",
    "\\W - [^A-Za-z0-9_] - special characters\n",
    "\\S - [^ \\t\\n\\r] - none space characters\n",
    "\n",
    "\\A - ^ - starts with\n",
    "\\Z - $ - Ends with\n",
    "\\b - Match at word boundry\n",
    "\n",
    "^(this|that)\n",
    "(yes)+\n",
    "\n"
   ]
  }
 ],
 "metadata": {
  "kernelspec": {
   "display_name": "Python 3",
   "language": "python",
   "name": "python3"
  },
  "language_info": {
   "codemirror_mode": {
    "name": "ipython",
    "version": 3
   },
   "file_extension": ".py",
   "mimetype": "text/x-python",
   "name": "python",
   "nbconvert_exporter": "python",
   "pygments_lexer": "ipython3",
   "version": "3.7.0"
  }
 },
 "nbformat": 4,
 "nbformat_minor": 2
}
