{
 "cells": [
  {
   "cell_type": "markdown",
   "metadata": {},
   "source": [
    "### Regular expression\n",
    "* Regular expression is used for pattern matching , for simple text search regular expression is not required.\n",
    "*  Example: if you find a string in all the lines of log \"re\" will be useful\n",
    "\n",
    "#### With *RE* we can do three things\n",
    "* Check whether a string/pattern \"matches\" a pattern\n",
    "* \"Extract\" part/complete matched string.\n",
    "* \"Substitute\" parts of a string that matched pattern"
   ]
  },
  {
   "cell_type": "code",
   "execution_count": 2,
   "metadata": {},
   "outputs": [
    {
     "name": "stdout",
     "output_type": "stream",
     "text": [
      "['A', 'ASCII', 'DEBUG', 'DOTALL', 'I', 'IGNORECASE', 'L', 'LOCALE', 'M', 'MULTILINE', 'Match', 'Pattern', 'RegexFlag', 'S', 'Scanner', 'T', 'TEMPLATE', 'U', 'UNICODE', 'VERBOSE', 'X', '_MAXCACHE', '__all__', '__builtins__', '__cached__', '__doc__', '__file__', '__loader__', '__name__', '__package__', '__spec__', '__version__', '_cache', '_compile', '_compile_repl', '_expand', '_locale', '_pickle', '_special_chars_map', '_subx', 'compile', 'copyreg', 'enum', 'error', 'escape', 'findall', 'finditer', 'fullmatch', 'functools', 'match', 'purge', 'search', 'split', 'sre_compile', 'sre_parse', 'sub', 'subn', 'template']\n"
     ]
    }
   ],
   "source": [
    "import re\n",
    "re.search\n",
    "re.match\n",
    "\n",
    "re.findall\n",
    "re.finditer\n",
    "\n",
    "re.sub\n",
    "re.subn\n",
    "\n",
    "print(dir(re))"
   ]
  },
  {
   "cell_type": "code",
   "execution_count": null,
   "metadata": {},
   "outputs": [],
   "source": [
    "1 . how to know the duplicates patterns in a string ..?\n",
    "2.  Atleast two or more character from [] has be matched ..?\n",
    "3. how can be put quantifiers(?) as searchable string ..?\n",
    "4. other than hij characters to search..?\n",
    "5. My regular expression should start and end with s ..?"
   ]
  },
  {
   "cell_type": "code",
   "execution_count": 6,
   "metadata": {},
   "outputs": [
    {
     "name": "stdout",
     "output_type": "stream",
     "text": [
      "<re.Match object; span=(11, 15), match='this'>\n",
      "this\n",
      "11\n",
      "15\n",
      "(11, 15)\n"
     ]
    }
   ],
   "source": [
    "import re\n",
    "a = \"fsjdkfjskf this sdjfklsdjfsaklfd\"\n",
    "m = re.search(\"this\",a)\n",
    "print(m)\n",
    "print(m.group())\n",
    "print(m.start())\n",
    "print(m.end())\n",
    "print(m.span())\n"
   ]
  },
  {
   "cell_type": "code",
   "execution_count": null,
   "metadata": {},
   "outputs": [],
   "source": [
    "import re\n",
    "\n",
    "regex = input(\"Enter Pattern :\")\n",
    "pattern = re.compile(regex)\n",
    "\n",
    "while True:\n",
    "    data = input(\"Enter String:\")\n",
    "    m = pattern.search(data) # searches entire string for the pattern\n",
    "    if m:\n",
    "        print(\"match found\")\n",
    "        print(\" \",m.span(),m.group())\n",
    "    else:\n",
    "        print(\"match not found\")"
   ]
  },
  {
   "cell_type": "code",
   "execution_count": null,
   "metadata": {},
   "outputs": [],
   "source": [
    "import re\n",
    "\n",
    "regex = input(\"Enter Pattern :\")\n",
    "pattern = re.compile(regex)\n",
    "\n",
    "while True:\n",
    "    data = input(\"Enter String:\")\n",
    "    m = pattern.match(data) # expect pattern matches from the start of the string.\n",
    "    if m:\n",
    "        print(\"match found\")\n",
    "        print(\" \",m.span(),m.group())\n",
    "    else:\n",
    "        print(\"match not found\")"
   ]
  },
  {
   "cell_type": "code",
   "execution_count": null,
   "metadata": {},
   "outputs": [],
   "source": [
    "th[ui]s  - either u or i\n",
    "thi?s  - it will accept either i or no i\n",
    "thi+s - 1 or more occurence of i\n",
    "thi*s - 0 or more occurence of i\n",
    "th[aeiou][aeiou]s  - two sets\n",
    "th[aeiou]+s  \n",
    "th[0-9A-Fa-f]s  \n",
    "^[0-9A-Fa-f]  - starts with\n",
    "^[0-9A-Fa-f]$  - ends with\n",
    "^0[Xx][0-9A-Fa-f]+$ - hexadecimal\n",
    "\n",
    "\\d - [0-9]  - digit\n",
    "\\w - [A-Za-z0-9_]  - any character including _\n",
    "\\s - [ \\t\\n\\r] - space\n",
    "\n",
    "\\D - [^0-9]  - other than digit\n",
    "\\W - [^A-Za-z0-9_] - special characters\n",
    "\\S - [^ \\t\\n\\r] - none space characters\n",
    "\n",
    ". -> any character\n",
    "\n",
    "#Anchors\n",
    "\\A - ^ - starts with\n",
    "\\Z - $ - Ends with\n",
    "\\b - Match at word boundry\n",
    "\n",
    "^(this|that)\n",
    "(yes)+\n",
    "\n",
    "#Quantifiers\n",
    "? -> \n",
    "+ -> 1 or more occurence\n",
    "* -> 0 or more occurence\n",
    "{min,max} --> \n",
    "\n",
    "#non-greedy quantifiers\n",
    "??\n",
    "+?\n",
    "*?\n",
    "{}?"
   ]
  },
  {
   "cell_type": "code",
   "execution_count": null,
   "metadata": {},
   "outputs": [],
   "source": [
    "#Example to show the difference between greedy and non-greedy match\n",
    "start.+end # greedy match # start ajfsd start fsdfsjkf end fhsdjhfs end  --> output : start ajfsd start fsdfsjkf end fhsdjhfs end\n",
    "start.+?end # non greedy match #start ajfsd start fsdfsjkf end fhsdjhfs end  --> output : start ajfsd start fsdfsjkf end\n"
   ]
  },
  {
   "cell_type": "code",
   "execution_count": null,
   "metadata": {},
   "outputs": [],
   "source": [
    "#Examples - Match -M , Nomatch -NM\n",
    "^\\d{5,8}$ #12-NM,12345-M,12345678-M,123456789-NM "
   ]
  },
  {
   "cell_type": "code",
   "execution_count": 35,
   "metadata": {},
   "outputs": [
    {
     "data": {
      "text/plain": [
       "'Skip to main content'"
      ]
     },
     "execution_count": 35,
     "metadata": {},
     "output_type": "execute_result"
    }
   ],
   "source": [
    "#<a href=\"#main-content\" class=\"element-invisible element-focusable\">Skip to main content</a>\n",
    "import re\n",
    "with open(\"index.html\") as index_page:\n",
    "    contents = index_page.read()\n",
    "#print(contents)\n",
    "#regex = r\"<a/s+href/s*=\n",
    "regex = r\"\"\"\n",
    "<a           #<a\n",
    "\\s+          #space\n",
    "href\\s*=\\s*  #string match - 'herf=' or 'herf = '\n",
    "['\"].+?['\"]   #matching \"any content in quotes\"\n",
    ".+?\n",
    ">\n",
    "(.+?)\n",
    "</a>\n",
    "\"\"\"\n",
    "pattern = re.compile(regex, re.VERBOSE|re.MULTILINE|re.DOTALL)\n",
    "m = pattern.search(contents)\n",
    "m.group(1)\n",
    "#m.group()"
   ]
  },
  {
   "cell_type": "code",
   "execution_count": null,
   "metadata": {},
   "outputs": [],
   "source": []
  },
  {
   "cell_type": "code",
   "execution_count": null,
   "metadata": {},
   "outputs": [],
   "source": []
  }
 ],
 "metadata": {
  "kernelspec": {
   "display_name": "Python 3",
   "language": "python",
   "name": "python3"
  },
  "language_info": {
   "codemirror_mode": {
    "name": "ipython",
    "version": 3
   },
   "file_extension": ".py",
   "mimetype": "text/x-python",
   "name": "python",
   "nbconvert_exporter": "python",
   "pygments_lexer": "ipython3",
   "version": "3.7.0"
  }
 },
 "nbformat": 4,
 "nbformat_minor": 2
}
