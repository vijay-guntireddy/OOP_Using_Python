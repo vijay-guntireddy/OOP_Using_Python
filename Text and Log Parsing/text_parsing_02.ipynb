{
 "cells": [
  {
   "cell_type": "markdown",
   "metadata": {},
   "source": [
    "### Regular expression\n",
    "* Regular expression is used for pattern matching , for simple text search regular expression is not required.\n",
    "*  Example: if you find a string in all the lines of log \"re\" will be useful\n",
    "\n",
    "#### With *RE* we can do three things\n",
    "* Check whether a string/pattern \"matches\" a pattern\n",
    "* \"Extract\" part/complete matched string.\n",
    "* \"Substitute\" parts of a string that matched pattern"
   ]
  },
  {
   "cell_type": "code",
   "execution_count": 2,
   "metadata": {},
   "outputs": [
    {
     "name": "stdout",
     "output_type": "stream",
     "text": [
      "['A', 'ASCII', 'DEBUG', 'DOTALL', 'I', 'IGNORECASE', 'L', 'LOCALE', 'M', 'MULTILINE', 'Match', 'Pattern', 'RegexFlag', 'S', 'Scanner', 'T', 'TEMPLATE', 'U', 'UNICODE', 'VERBOSE', 'X', '_MAXCACHE', '__all__', '__builtins__', '__cached__', '__doc__', '__file__', '__loader__', '__name__', '__package__', '__spec__', '__version__', '_cache', '_compile', '_compile_repl', '_expand', '_locale', '_pickle', '_special_chars_map', '_subx', 'compile', 'copyreg', 'enum', 'error', 'escape', 'findall', 'finditer', 'fullmatch', 'functools', 'match', 'purge', 'search', 'split', 'sre_compile', 'sre_parse', 'sub', 'subn', 'template']\n"
     ]
    }
   ],
   "source": [
    "import re\n",
    "re.search\n",
    "re.match\n",
    "\n",
    "re.findall\n",
    "re.finditer\n",
    "\n",
    "re.sub\n",
    "re.subn\n",
    "\n",
    "print(dir(re))"
   ]
  },
  {
   "cell_type": "code",
   "execution_count": null,
   "metadata": {},
   "outputs": [],
   "source": [
    "1 . how to know the duplicates patterns in a string ..?\n",
    "2.  Atleast two or more character from [] has be matched ..?\n",
    "3. how can be put quantifiers(?) as searchable string ..?\n",
    "4. other than hij characters to search..?\n",
    "5. My regular expression should start and end with s ..?"
   ]
  },
  {
   "cell_type": "code",
   "execution_count": 6,
   "metadata": {},
   "outputs": [
    {
     "name": "stdout",
     "output_type": "stream",
     "text": [
      "<re.Match object; span=(11, 15), match='this'>\n",
      "this\n",
      "11\n",
      "15\n",
      "(11, 15)\n"
     ]
    }
   ],
   "source": [
    "import re\n",
    "a = \"fsjdkfjskf this sdjfklsdjfsaklfd\"\n",
    "m = re.search(\"this\",a)\n",
    "print(m)\n",
    "print(m.group())\n",
    "print(m.start())\n",
    "print(m.end())\n",
    "print(m.span())\n"
   ]
  },
  {
   "cell_type": "code",
   "execution_count": null,
   "metadata": {},
   "outputs": [],
   "source": [
    "import re\n",
    "\n",
    "regex = input(\"Enter Pattern :\")\n",
    "pattern = re.compile(regex)\n",
    "\n",
    "while True:\n",
    "    data = input(\"Enter String:\")\n",
    "    m = pattern.search(data) # searches entire string for the pattern\n",
    "    if m:\n",
    "        print(\"match found\")\n",
    "        print(\" \",m.span(),m.group())\n",
    "    else:\n",
    "        print(\"match not found\")"
   ]
  },
  {
   "cell_type": "code",
   "execution_count": null,
   "metadata": {},
   "outputs": [],
   "source": [
    "import re\n",
    "\n",
    "regex = input(\"Enter Pattern :\")\n",
    "pattern = re.compile(regex)\n",
    "\n",
    "while True:\n",
    "    data = input(\"Enter String:\")\n",
    "    m = pattern.match(data) # expect pattern matches from the start of the string.\n",
    "    if m:\n",
    "        print(\"match found\")\n",
    "        print(\" \",m.span(),m.group())\n",
    "    else:\n",
    "        print(\"match not found\")"
   ]
  },
  {
   "cell_type": "code",
   "execution_count": null,
   "metadata": {},
   "outputs": [],
   "source": [
    "th[ui]s  - either u or i\n",
    "thi?s  - it will accept either i or no i\n",
    "thi+s - 1 or more occurence of i\n",
    "thi*s - 0 or more occurence of i\n",
    "th[aeiou][aeiou]s  - two sets\n",
    "th[aeiou]+s  \n",
    "th[0-9A-Fa-f]s  \n",
    "^[0-9A-Fa-f]  - starts with\n",
    "^[0-9A-Fa-f]$  - ends with\n",
    "^0[Xx][0-9A-Fa-f]+$ - hexadecimal\n",
    "\n",
    "\\d - [0-9]  - digit\n",
    "\\w - [A-Za-z0-9_]  - any character including _\n",
    "\\s - [ \\t\\n\\r] - space\n",
    "\n",
    "\\D - [^0-9]  - other than digit\n",
    "\\W - [^A-Za-z0-9_] - special characters\n",
    "\\S - [^ \\t\\n\\r] - none space characters\n",
    "\n",
    ". -> any character\n",
    "\n",
    "#Anchors\n",
    "\\A - ^ - starts with\n",
    "\\Z - $ - Ends with\n",
    "\\b - Match at word boundry\n",
    "\n",
    "^(this|that)\n",
    "(yes)+\n",
    "\n",
    "#Quantifiers\n",
    "? -> \n",
    "+ -> 1 or more occurence\n",
    "* -> 0 or more occurence\n",
    "{min,max} --> \n",
    "\n",
    "#non-greedy quantifiers\n",
    "??\n",
    "+?\n",
    "*?\n",
    "{}?"
   ]
  },
  {
   "cell_type": "code",
   "execution_count": null,
   "metadata": {},
   "outputs": [],
   "source": [
    "#Example to show the difference between greedy and non-greedy match\n",
    "start.+end # greedy match # start ajfsd start fsdfsjkf end fhsdjhfs end  --> output : start ajfsd start fsdfsjkf end fhsdjhfs end\n",
    "start.+?end # non greedy match #start ajfsd start fsdfsjkf end fhsdjhfs end  --> output : start ajfsd start fsdfsjkf end\n"
   ]
  },
  {
   "cell_type": "code",
   "execution_count": null,
   "metadata": {},
   "outputs": [],
   "source": [
    "#Examples - Match -M , Nomatch -NM\n",
    "^\\d{5,8}$ #12-NM,12345-M,12345678-M,123456789-NM "
   ]
  },
  {
   "cell_type": "code",
   "execution_count": 35,
   "metadata": {},
   "outputs": [
    {
     "data": {
      "text/plain": [
       "'Skip to main content'"
      ]
     },
     "execution_count": 35,
     "metadata": {},
     "output_type": "execute_result"
    }
   ],
   "source": [
    "#<a href=\"#main-content\" class=\"element-invisible element-focusable\">Skip to main content</a>\n",
    "import re\n",
    "with open(\"index.html\") as index_page:\n",
    "    contents = index_page.read()\n",
    "#print(contents)\n",
    "#regex = r\"<a/s+href/s*=\n",
    "regex = r\"\"\"\n",
    "<a           #<a\n",
    "\\s+          #space\n",
    "href\\s*=\\s*  #string match - 'herf=' or 'herf = '\n",
    "['\"].+?['\"]   #matching \"any content in quotes\"\n",
    ".+?\n",
    ">\n",
    "(.+?)\n",
    "</a>\n",
    "\"\"\"\n",
    "pattern = re.compile(regex, re.VERBOSE|re.MULTILINE|re.DOTALL)\n",
    "m = pattern.search(contents)\n",
    "m.group(1)\n",
    "#m.group()"
   ]
  },
  {
   "cell_type": "code",
   "execution_count": 43,
   "metadata": {},
   "outputs": [
    {
     "name": "stdout",
     "output_type": "stream",
     "text": [
      "<re.Match object; span=(1, 37), match='start mohan end\\nsuhel end\\nsharat end'>\n"
     ]
    }
   ],
   "source": [
    "import re\n",
    "\n",
    "contents = r\"\"\"\n",
    "start mohan end\n",
    "suhel end\n",
    "sharat end\n",
    "\"\"\"\n",
    "regex = r\"start.+end\"\n",
    "pattern = re.compile(regex,re.MULTILINE|re.DOTALL)\n",
    "m = pattern.search(contents)\n",
    "if m:\n",
    "    print(m)\n",
    "else:\n",
    "    print(\"no match\")"
   ]
  },
  {
   "cell_type": "code",
   "execution_count": 5,
   "metadata": {},
   "outputs": [
    {
     "name": "stdout",
     "output_type": "stream",
     "text": [
      "Skip to main content\n",
      "Skip to main content\n",
      "Chandrashekar Babu\n",
      "Home\n",
      "About\n",
      "Training\n",
      "Calendar\n",
      "Profile\n",
      "Articles\n",
      "Code Vault\n",
      "Random Thoughts\n",
      "Workshops\n",
      "Bookmarks\n",
      "Contact\n",
      "Sharing the light of Software Freedom since 1997\n",
      "more...\n",
      "Slashprog Technologies\n",
      "articles section\n",
      "code vault\n",
      "training calendar\n",
      "my random thoughts\n",
      "Read more<span class=\"element-invisible\"> about Sharing the light of Software Freedom since 1997</span>\n",
      "<img typeof=\"foaf:Image\" src=\"http://www.chandrashekar.info/misc/feed.png\" width=\"16\" height=\"16\" alt=\"Subscribe to Chandrashekar Babu RSS\" />\n",
      "A new blog from RoboBrowser - 2018 Oct 10th - Chandrashekar\n",
      "A test blog posted manually on Oct 10th - chandrashekar\n",
      "This is a test Title from A\n",
      "new blog (Sep 28 2018) by Robobrowser\n",
      "test blog manual - 2018 sep 28\n",
      "a new blog from robobrowser on aug 21\n",
      "a test blog added manually on August 21\n",
      "a new automated blog - aug 03\n",
      "a new blog added on aug 03\n",
      "A blog added\n",
      "Chandrashekar Babu\n"
     ]
    }
   ],
   "source": [
    "#<a href=\"#main-content\" class=\"element-invisible element-focusable\">Skip to main content</a>\n",
    "import re\n",
    "with open(\"index.html\") as index_page:\n",
    "    contents = index_page.read()\n",
    "#print(contents)\n",
    "#regex = r\"<a/s+href/s*=\n",
    "regex = r\"\"\"\n",
    "<a           #<a\n",
    "\\s+          #space\n",
    "href\\s*=\\s*  #string match - 'herf=' or 'herf = '\n",
    "['\"](.+?)['\"]   #matching \"any content in quotes\"\n",
    ".*?\n",
    ">\n",
    "(.+?)\n",
    "</a>\n",
    "\"\"\"\n",
    "pattern = re.compile(regex, re.VERBOSE|re.MULTILINE|re.DOTALL)\n",
    "#pattern.findall(contents) # if file is  too big it is not recommended to use this\n",
    "\n",
    "for match in pattern.finditer(contents):\n",
    "    print(match.group(2))\n"
   ]
  },
  {
   "cell_type": "code",
   "execution_count": 13,
   "metadata": {},
   "outputs": [
    {
     "name": "stdout",
     "output_type": "stream",
     "text": [
      "{'link': '#main-content', 'text': 'Skip to main content'}\n",
      "Skip to main content\n",
      "{'link': '#main-content', 'text': 'Skip to main content'}\n",
      "Skip to main content\n",
      "{'link': '/', 'text': 'Chandrashekar Babu'}\n",
      "Chandrashekar Babu\n",
      "{'link': '/', 'text': 'Home'}\n",
      "Home\n",
      "{'link': '/about', 'text': 'About'}\n",
      "About\n",
      "{'link': '/training.html', 'text': 'Training'}\n",
      "Training\n",
      "{'link': '/training-calendar.html', 'text': 'Calendar'}\n",
      "Calendar\n",
      "{'link': '/corporate-training-profile.html', 'text': 'Profile'}\n",
      "Profile\n",
      "{'link': '/articles.html', 'text': 'Articles'}\n",
      "Articles\n",
      "{'link': '/code-vault.html', 'text': 'Code Vault'}\n",
      "Code Vault\n",
      "{'link': '/random-thoughts.html', 'text': 'Random Thoughts'}\n",
      "Random Thoughts\n",
      "{'link': 'http://www.chandrashekar.info/workshops', 'text': 'Workshops'}\n",
      "Workshops\n",
      "{'link': '/links.html', 'text': 'Bookmarks'}\n",
      "Bookmarks\n",
      "{'link': '/contact.html', 'text': 'Contact'}\n",
      "Contact\n",
      "{'link': '//', 'text': 'Sharing the light of Software Freedom since 1997'}\n",
      "Sharing the light of Software Freedom since 1997\n",
      "{'link': 'about.html', 'text': 'more...'}\n",
      "more...\n",
      "{'link': 'http://www.slashprog.com/', 'text': 'Slashprog Technologies'}\n",
      "Slashprog Technologies\n",
      "{'link': '/articles.html', 'text': 'articles section'}\n",
      "articles section\n",
      "{'link': '/code-vault.html', 'text': 'code vault'}\n",
      "code vault\n",
      "{'link': '/training.html&gt;training section&lt;/a&gt; and also my &lt;a href=', 'text': 'training calendar'}\n",
      "training calendar\n",
      "{'link': '/random-thoughts.html', 'text': 'my random thoughts'}\n",
      "my random thoughts\n",
      "{'link': '//', 'text': 'Read more<span class=\"element-invisible\"> about Sharing the light of Software Freedom since 1997</span>'}\n",
      "Read more<span class=\"element-invisible\"> about Sharing the light of Software Freedom since 1997</span>\n",
      "{'link': '/rss.xml', 'text': '<img typeof=\"foaf:Image\" src=\"http://www.chandrashekar.info/misc/feed.png\" width=\"16\" height=\"16\" alt=\"Subscribe to Chandrashekar Babu RSS\" />'}\n",
      "<img typeof=\"foaf:Image\" src=\"http://www.chandrashekar.info/misc/feed.png\" width=\"16\" height=\"16\" alt=\"Subscribe to Chandrashekar Babu RSS\" />\n",
      "{'link': '/node/151', 'text': 'A new blog from RoboBrowser - 2018 Oct 10th - Chandrashekar'}\n",
      "A new blog from RoboBrowser - 2018 Oct 10th - Chandrashekar\n",
      "{'link': '/node/150', 'text': 'A test blog posted manually on Oct 10th - chandrashekar'}\n",
      "A test blog posted manually on Oct 10th - chandrashekar\n",
      "{'link': '/node/149', 'text': 'This is a test Title from A'}\n",
      "This is a test Title from A\n",
      "{'link': '/node/148', 'text': 'new blog (Sep 28 2018) by Robobrowser'}\n",
      "new blog (Sep 28 2018) by Robobrowser\n",
      "{'link': '/node/147', 'text': 'test blog manual - 2018 sep 28'}\n",
      "test blog manual - 2018 sep 28\n",
      "{'link': '/node/146', 'text': 'a new blog from robobrowser on aug 21'}\n",
      "a new blog from robobrowser on aug 21\n",
      "{'link': '/node/145', 'text': 'a test blog added manually on August 21'}\n",
      "a test blog added manually on August 21\n",
      "{'link': '/node/144', 'text': 'a new automated blog - aug 03'}\n",
      "a new automated blog - aug 03\n",
      "{'link': '/node/143', 'text': 'a new blog added on aug 03'}\n",
      "a new blog added on aug 03\n",
      "{'link': '/node/142', 'text': 'A blog added'}\n",
      "A blog added\n",
      "{'link': 'http://www.chandrashekar.info/', 'text': 'Chandrashekar Babu'}\n",
      "Chandrashekar Babu\n"
     ]
    }
   ],
   "source": [
    "#Naming of the group \n",
    "#<a href=\"#main-content\" class=\"element-invisible element-focusable\">Skip to main content</a>\n",
    "import re\n",
    "with open(\"index.html\") as index_page:\n",
    "    contents = index_page.read()\n",
    "#print(contents)\n",
    "#regex = r\"<a/s+href/s*=\n",
    "regex = r\"\"\"\n",
    "<a           #<a\n",
    "\\s+          #space\n",
    "href\\s*=\\s*  #string match - 'herf=' or 'herf = '\n",
    "['\"](?P<link>.+?)['\"]   #matching \"any content in quotes\"\n",
    ".*?\n",
    ">\n",
    "(?P<text>.+?)\n",
    "</a>\n",
    "\"\"\"\n",
    "pattern = re.compile(regex, re.VERBOSE|re.MULTILINE|re.DOTALL)\n",
    "#pattern.findall(contents) # if file is  too big it is not recommended to use this\n",
    "\n",
    "for match in pattern.finditer(contents):\n",
    "    print(match.groupdict())\n",
    "    print(match.groupdict()['text'])\n"
   ]
  },
  {
   "cell_type": "code",
   "execution_count": null,
   "metadata": {},
   "outputs": [],
   "source": []
  }
 ],
 "metadata": {
  "kernelspec": {
   "display_name": "Python 3",
   "language": "python",
   "name": "python3"
  },
  "language_info": {
   "codemirror_mode": {
    "name": "ipython",
    "version": 3
   },
   "file_extension": ".py",
   "mimetype": "text/x-python",
   "name": "python",
   "nbconvert_exporter": "python",
   "pygments_lexer": "ipython3",
   "version": "3.7.0"
  }
 },
 "nbformat": 4,
 "nbformat_minor": 2
}
