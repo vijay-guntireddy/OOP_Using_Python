{
 "cells": [
  {
   "cell_type": "markdown",
   "metadata": {},
   "source": [
    "#### Facade Pattern\n",
    "* Pattern hides the non-essential details of the individual interface of subsystems\n",
    "* Structural pattern\n",
    "* Reduces Complexity\n",
    "* Promote Loose Coupling\n",
    "* Protects client classes\n",
    "* Increases Maintainability"
   ]
  },
  {
   "cell_type": "markdown",
   "metadata": {},
   "source": [
    "![title](images/Facade.png)"
   ]
  },
  {
   "cell_type": "code",
   "execution_count": 1,
   "metadata": {},
   "outputs": [
    {
     "name": "stdout",
     "output_type": "stream",
     "text": [
      "Processing...\n",
      "Reading and writing to memory...\n",
      "Displaying...\n"
     ]
    }
   ],
   "source": [
    "class ProcessingUnit:\n",
    "    '''Subsystem #1'''\n",
    "\n",
    "    def process(self):\n",
    "        print(\"Processing...\")\n",
    "\n",
    "\n",
    "class DisplayUnit:\n",
    "    '''Subsystem #2'''\n",
    "\n",
    "    def display(self):\n",
    "        print(\"Displaying...\")\n",
    "\n",
    "\n",
    "class Memory:\n",
    "    '''Subsystem #3'''\n",
    "\n",
    "    def ioOperation(self):\n",
    "        print(\"Reading and writing to memory...\")\n",
    "\n",
    "\n",
    "class Computer:\n",
    "    '''Facade'''\n",
    "\n",
    "    def __init__(self):\n",
    "        self.processingUnit = ProcessingUnit()\n",
    "        self.displayUnit = DisplayUnit()\n",
    "        self.memory = Memory()\n",
    "\n",
    "    def bootUp(self):\n",
    "        self.processingUnit.process()\n",
    "        self.memory.ioOperation()\n",
    "        self.displayUnit.display()\n",
    "\n",
    "\n",
    "computer = Computer()\n",
    "computer.bootUp()\n"
   ]
  },
  {
   "cell_type": "code",
   "execution_count": 2,
   "metadata": {},
   "outputs": [
    {
     "name": "stdout",
     "output_type": "stream",
     "text": [
      "logging in as h with password w\n",
      "['logout']\n"
     ]
    }
   ],
   "source": [
    "\n",
    "def guest_method(self,attr):\n",
    "    def login(name,password):\n",
    "        self.name = name\n",
    "        self.password = password\n",
    "        print(\"logging in as {0} with password {1}\".format(name,password))\n",
    "\n",
    "    if attr == \"login\":\n",
    "        return login\n",
    "    else:\n",
    "        AttributeError(\"invalid attribute\",attr)\n",
    "\n",
    "def user_method(self,attr):\n",
    "    def logout():\n",
    "        del self.name\n",
    "        print(\"successfully logged out\")\n",
    "    if attr == \"logout\":\n",
    "        return logout\n",
    "    else:\n",
    "        AttributeError(\"invalid attribute\",attr)\n",
    "\n",
    "def admin_method(self,attr):\n",
    "    def add(name,password):\n",
    "        print(\"Added {0} and {1}\".format(name,password))\n",
    "\n",
    "    def remove(name):\n",
    "        print(\"removing {}\".format(name))\n",
    "\n",
    "    def logout():\n",
    "        del self.name\n",
    "\n",
    "    if attr == \"add\":\n",
    "        return add\n",
    "    elif attr == \"remove\":\n",
    "        return remove\n",
    "    elif attr == \"logout\":\n",
    "        return logout\n",
    "    else:\n",
    "        AttributeError(\"invalid attribute :\",attr)\n",
    "\n",
    "\n",
    "class company:\n",
    "\n",
    "    def __getattr__(self, attr):\n",
    "        if \"name\" not in self.__dict__:\n",
    "            return guest_method(self,attr)\n",
    "        elif self.__dict__[\"name\"] == \"root\":\n",
    "            return admin_method(self,attr)\n",
    "        else:\n",
    "            return user_method(self,attr)\n",
    "\n",
    "\n",
    "    def __dir__(self):\n",
    "        if \"name\" not in self.__dict__:\n",
    "            return [\"login\"]\n",
    "        elif self.__dict__[\"name\"] == \"root\":\n",
    "            return [\"add\",\"remove\",\"logout\"]\n",
    "        else:\n",
    "            return [\"logout\"]\n",
    "\n",
    "c = company()\n",
    "c.login(\"h\",\"w\")\n",
    "print(dir(c))\n",
    "#print(dir(c))"
   ]
  },
  {
   "cell_type": "code",
   "execution_count": null,
   "metadata": {},
   "outputs": [],
   "source": []
  }
 ],
 "metadata": {
  "kernelspec": {
   "display_name": "Python 3",
   "language": "python",
   "name": "python3"
  },
  "language_info": {
   "codemirror_mode": {
    "name": "ipython",
    "version": 3
   },
   "file_extension": ".py",
   "mimetype": "text/x-python",
   "name": "python",
   "nbconvert_exporter": "python",
   "pygments_lexer": "ipython3",
   "version": "3.7.0"
  }
 },
 "nbformat": 4,
 "nbformat_minor": 2
}
