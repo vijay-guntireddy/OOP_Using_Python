{
 "cells": [
  {
   "cell_type": "markdown",
   "metadata": {},
   "source": [
    "#### Command pattern"
   ]
  },
  {
   "cell_type": "code",
   "execution_count": null,
   "metadata": {},
   "outputs": [],
   "source": [
    "def list_command():\n",
    "    print(\"list display\")\n",
    "\n",
    "def pwd_command():\n",
    "    print(\"pwd display\")\n",
    "\n",
    "def exit_shell():\n",
    "    exit(0)\n",
    "\n",
    "def run():\n",
    "    while True:\n",
    "        command = input(\"Pyshell > \")\n",
    "        if command == \"list\":\n",
    "            list_command()\n",
    "        elif command == \"exit\":\n",
    "            exit_shell()\n",
    "\n",
    "\n",
    "run()"
   ]
  },
  {
   "cell_type": "code",
   "execution_count": null,
   "metadata": {},
   "outputs": [],
   "source": [
    "def list_command():\n",
    "    print(\"list display\")\n",
    "\n",
    "def pwd_command():\n",
    "    print(\"pwd display\")\n",
    "\n",
    "def exit_shell():\n",
    "    exit(0)\n",
    "\n",
    "def invalidcommand():\n",
    "    print(\"invalid command\")\n",
    "    \n",
    "commands = {\n",
    "    \"list\" : list_command,\n",
    "    \"pwd\" : pwd_command,\n",
    "    \"exit\" : exit_shell\n",
    "}\n",
    "    \n",
    "def run():\n",
    "    while True:\n",
    "        command = input(\"Pyshell > \")\n",
    "        if command not in commands:\n",
    "            invalidcommand()\n",
    "        else:\n",
    "            commands[command]()\n",
    "\n",
    "\n",
    "run()"
   ]
  },
  {
   "cell_type": "code",
   "execution_count": null,
   "metadata": {},
   "outputs": [],
   "source": [
    "def list_command(*args):\n",
    "    print(\"list display\")\n",
    "\n",
    "\n",
    "def pwd_command(*args):\n",
    "    print(\"pwd display\")\n",
    "\n",
    "\n",
    "def exit_shell(*args):\n",
    "    exit(0)\n",
    "\n",
    "\n",
    "def invalidcommand(*args):\n",
    "    print(\"invalid command\")\n",
    "\n",
    "\n",
    "commands = {\n",
    "    \"list\": list_command,\n",
    "    \"pwd\": pwd_command,\n",
    "    \"exit\": exit_shell\n",
    "}\n",
    "\n",
    "\n",
    "def run():\n",
    "    while True:\n",
    "        command = input(\"Pyshell > \")\n",
    "        args = command.split()\n",
    "        commands.get(args[0], invalidcommand)(*args)\n",
    "\n",
    "\n",
    "run()"
   ]
  },
  {
   "cell_type": "code",
   "execution_count": null,
   "metadata": {},
   "outputs": [],
   "source": []
  }
 ],
 "metadata": {
  "kernelspec": {
   "display_name": "Python 3",
   "language": "python",
   "name": "python3"
  },
  "language_info": {
   "codemirror_mode": {
    "name": "ipython",
    "version": 3
   },
   "file_extension": ".py",
   "mimetype": "text/x-python",
   "name": "python",
   "nbconvert_exporter": "python",
   "pygments_lexer": "ipython3",
   "version": "3.7.0"
  }
 },
 "nbformat": 4,
 "nbformat_minor": 2
}
