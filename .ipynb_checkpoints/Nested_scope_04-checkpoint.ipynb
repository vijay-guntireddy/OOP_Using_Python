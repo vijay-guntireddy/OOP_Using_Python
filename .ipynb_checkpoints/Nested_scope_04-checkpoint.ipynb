{
 "cells": [
  {
   "cell_type": "markdown",
   "metadata": {},
   "source": [
    "#### Nested Scope"
   ]
  },
  {
   "cell_type": "code",
   "execution_count": 2,
   "metadata": {},
   "outputs": [
    {
     "name": "stdout",
     "output_type": "stream",
     "text": [
      "in foo function\n",
      "in bar function\n",
      "in bar function\n",
      "in bar function\n"
     ]
    }
   ],
   "source": [
    "def foo():\n",
    "    print(\"in foo function\")\n",
    "    \n",
    "    def bar():  # encapsulation \n",
    "        print(\"in bar function\")\n",
    "    \n",
    "    bar()\n",
    "    bar()\n",
    "    bar()\n",
    "\n",
    "foo()\n",
    "bar() \n"
   ]
  },
  {
   "cell_type": "code",
   "execution_count": 3,
   "metadata": {},
   "outputs": [
    {
     "name": "stdout",
     "output_type": "stream",
     "text": [
      "in foo function\n",
      "in bar function\n"
     ]
    }
   ],
   "source": [
    "def foo():\n",
    "    print(\"in foo function\")\n",
    "    \n",
    "    def bar():\n",
    "        print(\"in bar function\")\n",
    "    \n",
    "    return bar\n",
    "\n",
    "b = foo() # foo will dynamically create the bar function  and return the reference to b , this is also called as factory pattern\n",
    "b()"
   ]
  },
  {
   "cell_type": "code",
   "execution_count": 5,
   "metadata": {},
   "outputs": [
    {
     "name": "stdout",
     "output_type": "stream",
     "text": [
      "in foo function\n",
      "in bar function 200\n"
     ]
    }
   ],
   "source": [
    "a = 100\n",
    "def foo():\n",
    "    a = 200\n",
    "    print(\"in foo function\")\n",
    "    \n",
    "    def bar():\n",
    "        print(\"in bar function\",a)\n",
    "        \n",
    "    bar()\n",
    "foo()"
   ]
  },
  {
   "cell_type": "code",
   "execution_count": 6,
   "metadata": {},
   "outputs": [
    {
     "name": "stdout",
     "output_type": "stream",
     "text": [
      "in foo function\n",
      "in bar function 200\n"
     ]
    }
   ],
   "source": [
    "a = 100\n",
    "def foo():\n",
    "    a = 200\n",
    "    print(\"in foo function\")\n",
    "    \n",
    "    def bar():\n",
    "        print(\"in bar function\",a)  #variable a context will not be destroyed as there is a reference for it through bar funciton.\n",
    "        \n",
    "    return bar\n",
    "b = foo()\n",
    "b()\n",
    "\n",
    "#nested static scope"
   ]
  },
  {
   "cell_type": "code",
   "execution_count": 10,
   "metadata": {},
   "outputs": [
    {
     "name": "stdout",
     "output_type": "stream",
     "text": [
      "{'baby', 'paul', 'john'}\n",
      "{'paul', 'john'}\n"
     ]
    }
   ],
   "source": [
    "def company():  # True encapsulation using def , here staff data cannot be access outside\n",
    "    staff = set()\n",
    "    \n",
    "    def hire(m):\n",
    "        staff.add(m)\n",
    "    def fire(m):\n",
    "        staff.remove(m)\n",
    "    def display():\n",
    "        print(staff)\n",
    "    \n",
    "    return hire,fire,display\n",
    "\n",
    "h,f,r = company()\n",
    "h(\"john\")\n",
    "h(\"paul\")\n",
    "h(\"baby\")\n",
    "r()\n",
    "f(\"baby\")\n",
    "r()"
   ]
  },
  {
   "cell_type": "code",
   "execution_count": 14,
   "metadata": {},
   "outputs": [
    {
     "name": "stdout",
     "output_type": "stream",
     "text": [
      "{'baby', 'paul', 'john'}\n"
     ]
    }
   ],
   "source": [
    "class Company:   # This is example of true encapsulation using class, here staff is local variable which we cannot access through class\n",
    "    def __init__(self):\n",
    "        staff = set()\n",
    "        \n",
    "        def hire(m):\n",
    "            staff.add(m)\n",
    "        def fire(m):\n",
    "            staff.remove(m)\n",
    "        def display():\n",
    "            print(staff)\n",
    "        \n",
    "        self.hire,self.fire,self.display = hire,fire,display\n",
    "\n",
    "c = Company()\n",
    "c.hire(\"john\")\n",
    "c.hire(\"paul\")\n",
    "c.hire(\"baby\")\n",
    "c.display()"
   ]
  },
  {
   "cell_type": "code",
   "execution_count": null,
   "metadata": {},
   "outputs": [],
   "source": []
  }
 ],
 "metadata": {
  "kernelspec": {
   "display_name": "Python 3",
   "language": "python",
   "name": "python3"
  },
  "language_info": {
   "codemirror_mode": {
    "name": "ipython",
    "version": 3
   },
   "file_extension": ".py",
   "mimetype": "text/x-python",
   "name": "python",
   "nbconvert_exporter": "python",
   "pygments_lexer": "ipython3",
   "version": "3.7.0"
  }
 },
 "nbformat": 4,
 "nbformat_minor": 2
}
